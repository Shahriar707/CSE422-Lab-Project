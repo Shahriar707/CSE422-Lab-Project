{
  "cells": [
    {
      "cell_type": "markdown",
      "metadata": {
        "id": "8Ldju_H0L13d"
      },
      "source": [
        "## Task Division\n",
        "\n",
        "Razin Rayan Rahat (20101001) - Data Preprocessing & SVC \n",
        "\n",
        "Shahriar Ahmed (20101588) - Decision Tree, Random Forest Classifier & Result Analysis  \n",
        "\n",
        "Fardin Bin Rahman (20101592) - Naive Bayes, Linear Regression & Ridge Regression\n",
        "\n",
        "Ilmy Islam (20201214) - Data Preprocessing & kNN\n"
      ]
    },
    {
      "cell_type": "markdown",
      "metadata": {
        "id": "HG1RQMuatbYK"
      },
      "source": [
        "## Importing Libraries\n"
      ]
    },
    {
      "cell_type": "code",
      "execution_count": 1,
      "metadata": {
        "id": "1eg-bnGrzejL"
      },
      "outputs": [],
      "source": [
        "import numpy as np \n",
        "import pandas as pd \n",
        "import matplotlib\n",
        "import matplotlib.pyplot as plt\n",
        "import seaborn as sns \n",
        "from google.colab import drive "
      ]
    },
    {
      "cell_type": "markdown",
      "metadata": {
        "id": "R82RUUhztwqN"
      },
      "source": [
        "## Input reading from File"
      ]
    },
    {
      "cell_type": "code",
      "execution_count": 2,
      "metadata": {
        "colab": {
          "base_uri": "https://localhost:8080/"
        },
        "id": "U9XLJ9vAVJYc",
        "outputId": "990efd4e-634c-45a6-b4e6-bfbb460a92fb"
      },
      "outputs": [
        {
          "output_type": "stream",
          "name": "stdout",
          "text": [
            "Drive already mounted at /content/drive; to attempt to forcibly remount, call drive.mount(\"/content/drive\", force_remount=True).\n"
          ]
        }
      ],
      "source": [
        "from google.colab import drive\n",
        "drive.mount('/content/drive')"
      ]
    },
    {
      "cell_type": "markdown",
      "metadata": {
        "id": "1ujC_x0xt3ba"
      },
      "source": [
        "## Dataset"
      ]
    },
    {
      "cell_type": "code",
      "execution_count": 3,
      "metadata": {
        "colab": {
          "base_uri": "https://localhost:8080/",
          "height": 354
        },
        "id": "N635OnR6J9oS",
        "outputId": "1910ffd0-89c5-42c9-eda5-4659cf9d0991"
      },
      "outputs": [
        {
          "output_type": "execute_result",
          "data": {
            "text/plain": [
              "   Unnamed: 0    BrandName                                            Deatils  \\\n",
              "0           0         life  solid cotton blend collar neck womens a-line d...   \n",
              "1           1         only  polyester peter pan collar womens blouson dres...   \n",
              "2           2      fratini  solid polyester blend wide neck womens regular...   \n",
              "3           3  zink london  stripes polyester sweetheart neck womens dress...   \n",
              "4           4         life  regular fit regular length denim womens jeans ...   \n",
              "\n",
              "                                     Sizes       MRP SellPrice Discount  \\\n",
              "0  Size:Large,Medium,Small,X-Large,X-Small  Rs\\n1699       849  50% off   \n",
              "1                         Size:34,36,38,40  Rs\\n3499      2449  30% off   \n",
              "2              Size:Large,X-Large,XX-Large  Rs\\n1199       599  50% off   \n",
              "3          Size:Large,Medium,Small,X-Large  Rs\\n2299      1379  40% off   \n",
              "4                   Size:26,28,30,32,34,36  Rs\\n1699       849  50% off   \n",
              "\n",
              "            Category  \n",
              "0  Westernwear-Women  \n",
              "1  Westernwear-Women  \n",
              "2  Westernwear-Women  \n",
              "3  Westernwear-Women  \n",
              "4  Westernwear-Women  "
            ],
            "text/html": [
              "\n",
              "  <div id=\"df-d4b118bf-3ada-4e3f-853d-c865edb33899\">\n",
              "    <div class=\"colab-df-container\">\n",
              "      <div>\n",
              "<style scoped>\n",
              "    .dataframe tbody tr th:only-of-type {\n",
              "        vertical-align: middle;\n",
              "    }\n",
              "\n",
              "    .dataframe tbody tr th {\n",
              "        vertical-align: top;\n",
              "    }\n",
              "\n",
              "    .dataframe thead th {\n",
              "        text-align: right;\n",
              "    }\n",
              "</style>\n",
              "<table border=\"1\" class=\"dataframe\">\n",
              "  <thead>\n",
              "    <tr style=\"text-align: right;\">\n",
              "      <th></th>\n",
              "      <th>Unnamed: 0</th>\n",
              "      <th>BrandName</th>\n",
              "      <th>Deatils</th>\n",
              "      <th>Sizes</th>\n",
              "      <th>MRP</th>\n",
              "      <th>SellPrice</th>\n",
              "      <th>Discount</th>\n",
              "      <th>Category</th>\n",
              "    </tr>\n",
              "  </thead>\n",
              "  <tbody>\n",
              "    <tr>\n",
              "      <th>0</th>\n",
              "      <td>0</td>\n",
              "      <td>life</td>\n",
              "      <td>solid cotton blend collar neck womens a-line d...</td>\n",
              "      <td>Size:Large,Medium,Small,X-Large,X-Small</td>\n",
              "      <td>Rs\\n1699</td>\n",
              "      <td>849</td>\n",
              "      <td>50% off</td>\n",
              "      <td>Westernwear-Women</td>\n",
              "    </tr>\n",
              "    <tr>\n",
              "      <th>1</th>\n",
              "      <td>1</td>\n",
              "      <td>only</td>\n",
              "      <td>polyester peter pan collar womens blouson dres...</td>\n",
              "      <td>Size:34,36,38,40</td>\n",
              "      <td>Rs\\n3499</td>\n",
              "      <td>2449</td>\n",
              "      <td>30% off</td>\n",
              "      <td>Westernwear-Women</td>\n",
              "    </tr>\n",
              "    <tr>\n",
              "      <th>2</th>\n",
              "      <td>2</td>\n",
              "      <td>fratini</td>\n",
              "      <td>solid polyester blend wide neck womens regular...</td>\n",
              "      <td>Size:Large,X-Large,XX-Large</td>\n",
              "      <td>Rs\\n1199</td>\n",
              "      <td>599</td>\n",
              "      <td>50% off</td>\n",
              "      <td>Westernwear-Women</td>\n",
              "    </tr>\n",
              "    <tr>\n",
              "      <th>3</th>\n",
              "      <td>3</td>\n",
              "      <td>zink london</td>\n",
              "      <td>stripes polyester sweetheart neck womens dress...</td>\n",
              "      <td>Size:Large,Medium,Small,X-Large</td>\n",
              "      <td>Rs\\n2299</td>\n",
              "      <td>1379</td>\n",
              "      <td>40% off</td>\n",
              "      <td>Westernwear-Women</td>\n",
              "    </tr>\n",
              "    <tr>\n",
              "      <th>4</th>\n",
              "      <td>4</td>\n",
              "      <td>life</td>\n",
              "      <td>regular fit regular length denim womens jeans ...</td>\n",
              "      <td>Size:26,28,30,32,34,36</td>\n",
              "      <td>Rs\\n1699</td>\n",
              "      <td>849</td>\n",
              "      <td>50% off</td>\n",
              "      <td>Westernwear-Women</td>\n",
              "    </tr>\n",
              "  </tbody>\n",
              "</table>\n",
              "</div>\n",
              "      <button class=\"colab-df-convert\" onclick=\"convertToInteractive('df-d4b118bf-3ada-4e3f-853d-c865edb33899')\"\n",
              "              title=\"Convert this dataframe to an interactive table.\"\n",
              "              style=\"display:none;\">\n",
              "        \n",
              "  <svg xmlns=\"http://www.w3.org/2000/svg\" height=\"24px\"viewBox=\"0 0 24 24\"\n",
              "       width=\"24px\">\n",
              "    <path d=\"M0 0h24v24H0V0z\" fill=\"none\"/>\n",
              "    <path d=\"M18.56 5.44l.94 2.06.94-2.06 2.06-.94-2.06-.94-.94-2.06-.94 2.06-2.06.94zm-11 1L8.5 8.5l.94-2.06 2.06-.94-2.06-.94L8.5 2.5l-.94 2.06-2.06.94zm10 10l.94 2.06.94-2.06 2.06-.94-2.06-.94-.94-2.06-.94 2.06-2.06.94z\"/><path d=\"M17.41 7.96l-1.37-1.37c-.4-.4-.92-.59-1.43-.59-.52 0-1.04.2-1.43.59L10.3 9.45l-7.72 7.72c-.78.78-.78 2.05 0 2.83L4 21.41c.39.39.9.59 1.41.59.51 0 1.02-.2 1.41-.59l7.78-7.78 2.81-2.81c.8-.78.8-2.07 0-2.86zM5.41 20L4 18.59l7.72-7.72 1.47 1.35L5.41 20z\"/>\n",
              "  </svg>\n",
              "      </button>\n",
              "      \n",
              "  <style>\n",
              "    .colab-df-container {\n",
              "      display:flex;\n",
              "      flex-wrap:wrap;\n",
              "      gap: 12px;\n",
              "    }\n",
              "\n",
              "    .colab-df-convert {\n",
              "      background-color: #E8F0FE;\n",
              "      border: none;\n",
              "      border-radius: 50%;\n",
              "      cursor: pointer;\n",
              "      display: none;\n",
              "      fill: #1967D2;\n",
              "      height: 32px;\n",
              "      padding: 0 0 0 0;\n",
              "      width: 32px;\n",
              "    }\n",
              "\n",
              "    .colab-df-convert:hover {\n",
              "      background-color: #E2EBFA;\n",
              "      box-shadow: 0px 1px 2px rgba(60, 64, 67, 0.3), 0px 1px 3px 1px rgba(60, 64, 67, 0.15);\n",
              "      fill: #174EA6;\n",
              "    }\n",
              "\n",
              "    [theme=dark] .colab-df-convert {\n",
              "      background-color: #3B4455;\n",
              "      fill: #D2E3FC;\n",
              "    }\n",
              "\n",
              "    [theme=dark] .colab-df-convert:hover {\n",
              "      background-color: #434B5C;\n",
              "      box-shadow: 0px 1px 3px 1px rgba(0, 0, 0, 0.15);\n",
              "      filter: drop-shadow(0px 1px 2px rgba(0, 0, 0, 0.3));\n",
              "      fill: #FFFFFF;\n",
              "    }\n",
              "  </style>\n",
              "\n",
              "      <script>\n",
              "        const buttonEl =\n",
              "          document.querySelector('#df-d4b118bf-3ada-4e3f-853d-c865edb33899 button.colab-df-convert');\n",
              "        buttonEl.style.display =\n",
              "          google.colab.kernel.accessAllowed ? 'block' : 'none';\n",
              "\n",
              "        async function convertToInteractive(key) {\n",
              "          const element = document.querySelector('#df-d4b118bf-3ada-4e3f-853d-c865edb33899');\n",
              "          const dataTable =\n",
              "            await google.colab.kernel.invokeFunction('convertToInteractive',\n",
              "                                                     [key], {});\n",
              "          if (!dataTable) return;\n",
              "\n",
              "          const docLinkHtml = 'Like what you see? Visit the ' +\n",
              "            '<a target=\"_blank\" href=https://colab.research.google.com/notebooks/data_table.ipynb>data table notebook</a>'\n",
              "            + ' to learn more about interactive tables.';\n",
              "          element.innerHTML = '';\n",
              "          dataTable['output_type'] = 'display_data';\n",
              "          await google.colab.output.renderOutput(dataTable, element);\n",
              "          const docLink = document.createElement('div');\n",
              "          docLink.innerHTML = docLinkHtml;\n",
              "          element.appendChild(docLink);\n",
              "        }\n",
              "      </script>\n",
              "    </div>\n",
              "  </div>\n",
              "  "
            ]
          },
          "metadata": {},
          "execution_count": 3
        }
      ],
      "source": [
        "data = pd.read_csv('/content/drive/MyDrive/CSE422-Dataset/FashionDataset.csv')\n",
        "data.head()"
      ]
    },
    {
      "cell_type": "markdown",
      "metadata": {
        "id": "9fzWcqIst8fE"
      },
      "source": [
        "## Data Describing"
      ]
    },
    {
      "cell_type": "code",
      "execution_count": 4,
      "metadata": {
        "colab": {
          "base_uri": "https://localhost:8080/"
        },
        "id": "Ven0vzFVJ-Pc",
        "outputId": "96a8afc3-5200-436f-e47f-fcce5b9e3a52"
      },
      "outputs": [
        {
          "output_type": "execute_result",
          "data": {
            "text/plain": [
              "pandas.core.frame.DataFrame"
            ]
          },
          "metadata": {},
          "execution_count": 4
        }
      ],
      "source": [
        "type(data)"
      ]
    },
    {
      "cell_type": "code",
      "execution_count": 5,
      "metadata": {
        "colab": {
          "base_uri": "https://localhost:8080/"
        },
        "id": "OVAu7nAyKAf5",
        "outputId": "4660ae87-467c-4922-c2fc-8ee16312c3c2"
      },
      "outputs": [
        {
          "output_type": "stream",
          "name": "stdout",
          "text": [
            "<class 'pandas.core.frame.DataFrame'>\n",
            "RangeIndex: 30758 entries, 0 to 30757\n",
            "Data columns (total 8 columns):\n",
            " #   Column      Non-Null Count  Dtype \n",
            "---  ------      --------------  ----- \n",
            " 0   Unnamed: 0  30758 non-null  int64 \n",
            " 1   BrandName   30758 non-null  object\n",
            " 2   Deatils     30758 non-null  object\n",
            " 3   Sizes       30758 non-null  object\n",
            " 4   MRP         30758 non-null  object\n",
            " 5   SellPrice   30758 non-null  object\n",
            " 6   Discount    30758 non-null  object\n",
            " 7   Category    30758 non-null  object\n",
            "dtypes: int64(1), object(7)\n",
            "memory usage: 1.9+ MB\n"
          ]
        }
      ],
      "source": [
        "data.info()"
      ]
    },
    {
      "cell_type": "markdown",
      "metadata": {
        "id": "tf_I5SdKuJwo"
      },
      "source": [
        "## Data Cleaning and Handling "
      ]
    },
    {
      "cell_type": "code",
      "execution_count": 6,
      "metadata": {
        "colab": {
          "base_uri": "https://localhost:8080/"
        },
        "id": "bkn-FycjKB3v",
        "outputId": "bb860097-a504-4b1a-b030-a7db74cdc8ef"
      },
      "outputs": [
        {
          "output_type": "execute_result",
          "data": {
            "text/plain": [
              "Index(['Unnamed: 0', 'BrandName', 'Deatils', 'Sizes', 'MRP', 'SellPrice',\n",
              "       'Discount', 'Category'],\n",
              "      dtype='object')"
            ]
          },
          "metadata": {},
          "execution_count": 6
        }
      ],
      "source": [
        "data.columns"
      ]
    },
    {
      "cell_type": "code",
      "execution_count": 7,
      "metadata": {
        "id": "n0sbhUSYKGhq"
      },
      "outputs": [],
      "source": [
        "data.drop(columns = [\"Unnamed: 0\"], inplace = True)"
      ]
    },
    {
      "cell_type": "code",
      "execution_count": 8,
      "metadata": {
        "colab": {
          "base_uri": "https://localhost:8080/"
        },
        "id": "geWyjb9IKLrO",
        "outputId": "22307d02-391f-453d-e22e-5860c8e6dae4"
      },
      "outputs": [
        {
          "output_type": "execute_result",
          "data": {
            "text/plain": [
              "Index(['BrandName', 'Deatils', 'Sizes', 'MRP', 'SellPrice', 'Discount',\n",
              "       'Category'],\n",
              "      dtype='object')"
            ]
          },
          "metadata": {},
          "execution_count": 8
        }
      ],
      "source": [
        "data.columns"
      ]
    },
    {
      "cell_type": "code",
      "execution_count": 9,
      "metadata": {
        "colab": {
          "base_uri": "https://localhost:8080/",
          "height": 206
        },
        "id": "xqXiTVOFK3Cz",
        "outputId": "22a44588-05fc-4478-e4f6-8c79953caa80"
      },
      "outputs": [
        {
          "output_type": "execute_result",
          "data": {
            "text/plain": [
              "     BrandName                                            Deatils  \\\n",
              "0         life  solid cotton blend collar neck womens a-line d...   \n",
              "1         only  polyester peter pan collar womens blouson dres...   \n",
              "2      fratini  solid polyester blend wide neck womens regular...   \n",
              "3  zink london  stripes polyester sweetheart neck womens dress...   \n",
              "4         life  regular fit regular length denim womens jeans ...   \n",
              "\n",
              "                                     Sizes       MRP SellPrice Discount  \\\n",
              "0  Size:Large,Medium,Small,X-Large,X-Small  Rs\\n1699       849  50% off   \n",
              "1                         Size:34,36,38,40  Rs\\n3499      2449  30% off   \n",
              "2              Size:Large,X-Large,XX-Large  Rs\\n1199       599  50% off   \n",
              "3          Size:Large,Medium,Small,X-Large  Rs\\n2299      1379  40% off   \n",
              "4                   Size:26,28,30,32,34,36  Rs\\n1699       849  50% off   \n",
              "\n",
              "            Category  \n",
              "0  Westernwear-Women  \n",
              "1  Westernwear-Women  \n",
              "2  Westernwear-Women  \n",
              "3  Westernwear-Women  \n",
              "4  Westernwear-Women  "
            ],
            "text/html": [
              "\n",
              "  <div id=\"df-9fa8d9a9-d742-46f3-ab09-5beddfa73992\">\n",
              "    <div class=\"colab-df-container\">\n",
              "      <div>\n",
              "<style scoped>\n",
              "    .dataframe tbody tr th:only-of-type {\n",
              "        vertical-align: middle;\n",
              "    }\n",
              "\n",
              "    .dataframe tbody tr th {\n",
              "        vertical-align: top;\n",
              "    }\n",
              "\n",
              "    .dataframe thead th {\n",
              "        text-align: right;\n",
              "    }\n",
              "</style>\n",
              "<table border=\"1\" class=\"dataframe\">\n",
              "  <thead>\n",
              "    <tr style=\"text-align: right;\">\n",
              "      <th></th>\n",
              "      <th>BrandName</th>\n",
              "      <th>Deatils</th>\n",
              "      <th>Sizes</th>\n",
              "      <th>MRP</th>\n",
              "      <th>SellPrice</th>\n",
              "      <th>Discount</th>\n",
              "      <th>Category</th>\n",
              "    </tr>\n",
              "  </thead>\n",
              "  <tbody>\n",
              "    <tr>\n",
              "      <th>0</th>\n",
              "      <td>life</td>\n",
              "      <td>solid cotton blend collar neck womens a-line d...</td>\n",
              "      <td>Size:Large,Medium,Small,X-Large,X-Small</td>\n",
              "      <td>Rs\\n1699</td>\n",
              "      <td>849</td>\n",
              "      <td>50% off</td>\n",
              "      <td>Westernwear-Women</td>\n",
              "    </tr>\n",
              "    <tr>\n",
              "      <th>1</th>\n",
              "      <td>only</td>\n",
              "      <td>polyester peter pan collar womens blouson dres...</td>\n",
              "      <td>Size:34,36,38,40</td>\n",
              "      <td>Rs\\n3499</td>\n",
              "      <td>2449</td>\n",
              "      <td>30% off</td>\n",
              "      <td>Westernwear-Women</td>\n",
              "    </tr>\n",
              "    <tr>\n",
              "      <th>2</th>\n",
              "      <td>fratini</td>\n",
              "      <td>solid polyester blend wide neck womens regular...</td>\n",
              "      <td>Size:Large,X-Large,XX-Large</td>\n",
              "      <td>Rs\\n1199</td>\n",
              "      <td>599</td>\n",
              "      <td>50% off</td>\n",
              "      <td>Westernwear-Women</td>\n",
              "    </tr>\n",
              "    <tr>\n",
              "      <th>3</th>\n",
              "      <td>zink london</td>\n",
              "      <td>stripes polyester sweetheart neck womens dress...</td>\n",
              "      <td>Size:Large,Medium,Small,X-Large</td>\n",
              "      <td>Rs\\n2299</td>\n",
              "      <td>1379</td>\n",
              "      <td>40% off</td>\n",
              "      <td>Westernwear-Women</td>\n",
              "    </tr>\n",
              "    <tr>\n",
              "      <th>4</th>\n",
              "      <td>life</td>\n",
              "      <td>regular fit regular length denim womens jeans ...</td>\n",
              "      <td>Size:26,28,30,32,34,36</td>\n",
              "      <td>Rs\\n1699</td>\n",
              "      <td>849</td>\n",
              "      <td>50% off</td>\n",
              "      <td>Westernwear-Women</td>\n",
              "    </tr>\n",
              "  </tbody>\n",
              "</table>\n",
              "</div>\n",
              "      <button class=\"colab-df-convert\" onclick=\"convertToInteractive('df-9fa8d9a9-d742-46f3-ab09-5beddfa73992')\"\n",
              "              title=\"Convert this dataframe to an interactive table.\"\n",
              "              style=\"display:none;\">\n",
              "        \n",
              "  <svg xmlns=\"http://www.w3.org/2000/svg\" height=\"24px\"viewBox=\"0 0 24 24\"\n",
              "       width=\"24px\">\n",
              "    <path d=\"M0 0h24v24H0V0z\" fill=\"none\"/>\n",
              "    <path d=\"M18.56 5.44l.94 2.06.94-2.06 2.06-.94-2.06-.94-.94-2.06-.94 2.06-2.06.94zm-11 1L8.5 8.5l.94-2.06 2.06-.94-2.06-.94L8.5 2.5l-.94 2.06-2.06.94zm10 10l.94 2.06.94-2.06 2.06-.94-2.06-.94-.94-2.06-.94 2.06-2.06.94z\"/><path d=\"M17.41 7.96l-1.37-1.37c-.4-.4-.92-.59-1.43-.59-.52 0-1.04.2-1.43.59L10.3 9.45l-7.72 7.72c-.78.78-.78 2.05 0 2.83L4 21.41c.39.39.9.59 1.41.59.51 0 1.02-.2 1.41-.59l7.78-7.78 2.81-2.81c.8-.78.8-2.07 0-2.86zM5.41 20L4 18.59l7.72-7.72 1.47 1.35L5.41 20z\"/>\n",
              "  </svg>\n",
              "      </button>\n",
              "      \n",
              "  <style>\n",
              "    .colab-df-container {\n",
              "      display:flex;\n",
              "      flex-wrap:wrap;\n",
              "      gap: 12px;\n",
              "    }\n",
              "\n",
              "    .colab-df-convert {\n",
              "      background-color: #E8F0FE;\n",
              "      border: none;\n",
              "      border-radius: 50%;\n",
              "      cursor: pointer;\n",
              "      display: none;\n",
              "      fill: #1967D2;\n",
              "      height: 32px;\n",
              "      padding: 0 0 0 0;\n",
              "      width: 32px;\n",
              "    }\n",
              "\n",
              "    .colab-df-convert:hover {\n",
              "      background-color: #E2EBFA;\n",
              "      box-shadow: 0px 1px 2px rgba(60, 64, 67, 0.3), 0px 1px 3px 1px rgba(60, 64, 67, 0.15);\n",
              "      fill: #174EA6;\n",
              "    }\n",
              "\n",
              "    [theme=dark] .colab-df-convert {\n",
              "      background-color: #3B4455;\n",
              "      fill: #D2E3FC;\n",
              "    }\n",
              "\n",
              "    [theme=dark] .colab-df-convert:hover {\n",
              "      background-color: #434B5C;\n",
              "      box-shadow: 0px 1px 3px 1px rgba(0, 0, 0, 0.15);\n",
              "      filter: drop-shadow(0px 1px 2px rgba(0, 0, 0, 0.3));\n",
              "      fill: #FFFFFF;\n",
              "    }\n",
              "  </style>\n",
              "\n",
              "      <script>\n",
              "        const buttonEl =\n",
              "          document.querySelector('#df-9fa8d9a9-d742-46f3-ab09-5beddfa73992 button.colab-df-convert');\n",
              "        buttonEl.style.display =\n",
              "          google.colab.kernel.accessAllowed ? 'block' : 'none';\n",
              "\n",
              "        async function convertToInteractive(key) {\n",
              "          const element = document.querySelector('#df-9fa8d9a9-d742-46f3-ab09-5beddfa73992');\n",
              "          const dataTable =\n",
              "            await google.colab.kernel.invokeFunction('convertToInteractive',\n",
              "                                                     [key], {});\n",
              "          if (!dataTable) return;\n",
              "\n",
              "          const docLinkHtml = 'Like what you see? Visit the ' +\n",
              "            '<a target=\"_blank\" href=https://colab.research.google.com/notebooks/data_table.ipynb>data table notebook</a>'\n",
              "            + ' to learn more about interactive tables.';\n",
              "          element.innerHTML = '';\n",
              "          dataTable['output_type'] = 'display_data';\n",
              "          await google.colab.output.renderOutput(dataTable, element);\n",
              "          const docLink = document.createElement('div');\n",
              "          docLink.innerHTML = docLinkHtml;\n",
              "          element.appendChild(docLink);\n",
              "        }\n",
              "      </script>\n",
              "    </div>\n",
              "  </div>\n",
              "  "
            ]
          },
          "metadata": {},
          "execution_count": 9
        }
      ],
      "source": [
        "data.head()"
      ]
    },
    {
      "cell_type": "code",
      "execution_count": 10,
      "metadata": {
        "colab": {
          "base_uri": "https://localhost:8080/"
        },
        "id": "OerICIvhKNYY",
        "outputId": "516430e5-3857-4274-ee90-768240db15ad"
      },
      "outputs": [
        {
          "output_type": "execute_result",
          "data": {
            "text/plain": [
              "(30758, 7)"
            ]
          },
          "metadata": {},
          "execution_count": 10
        }
      ],
      "source": [
        "data.shape"
      ]
    },
    {
      "cell_type": "code",
      "execution_count": 11,
      "metadata": {
        "colab": {
          "base_uri": "https://localhost:8080/"
        },
        "id": "BcIi2l6FKjYb",
        "outputId": "3d550fb4-7745-4e22-d879-26d4a8682330"
      },
      "outputs": [
        {
          "output_type": "execute_result",
          "data": {
            "text/plain": [
              "BrandName    0\n",
              "Deatils      0\n",
              "Sizes        0\n",
              "MRP          0\n",
              "SellPrice    0\n",
              "Discount     0\n",
              "Category     0\n",
              "dtype: int64"
            ]
          },
          "metadata": {},
          "execution_count": 11
        }
      ],
      "source": [
        "data.isnull().sum()"
      ]
    },
    {
      "cell_type": "code",
      "execution_count": 12,
      "metadata": {
        "colab": {
          "base_uri": "https://localhost:8080/"
        },
        "id": "wc-Gv3LdK6cw",
        "outputId": "437d341f-a15a-471e-e888-07d82e86b455"
      },
      "outputs": [
        {
          "output_type": "execute_result",
          "data": {
            "text/plain": [
              "BrandName      275\n",
              "Deatils      23877\n",
              "Sizes         1172\n",
              "MRP           1097\n",
              "SellPrice     2046\n",
              "Discount        66\n",
              "Category         7\n",
              "dtype: int64"
            ]
          },
          "metadata": {},
          "execution_count": 12
        }
      ],
      "source": [
        "data.nunique()"
      ]
    },
    {
      "cell_type": "code",
      "execution_count": 13,
      "metadata": {
        "id": "O4pwXIYiM5YI"
      },
      "outputs": [],
      "source": [
        "data.replace(\"Nan\", np.nan, inplace = True)"
      ]
    },
    {
      "cell_type": "code",
      "execution_count": 14,
      "metadata": {
        "id": "MylcHWgmOMGo"
      },
      "outputs": [],
      "source": [
        "data['Sizes'] = data['Sizes'].str.replace('Size:', '')\n",
        "data['Category'] = data['Category'].str.replace('-Women', '')\n",
        "data['MRP'] = data['MRP'].str.replace('Rs\\n', '')\n",
        "data['Discount'] = data['Discount'].str.replace('% off', '')"
      ]
    },
    {
      "cell_type": "code",
      "execution_count": 15,
      "metadata": {
        "id": "KJKRyXpEQW7k"
      },
      "outputs": [],
      "source": [
        "data.dropna(axis=0,inplace=True)"
      ]
    },
    {
      "cell_type": "code",
      "execution_count": 16,
      "metadata": {
        "id": "LK480cRbQaWe"
      },
      "outputs": [],
      "source": [
        "data['MRP'] = data['MRP'].astype(int)\n",
        "data['Discount'] = data['Discount'].astype(int)\n",
        "data['SellPrice'] = data['SellPrice'].astype(int)"
      ]
    },
    {
      "cell_type": "code",
      "execution_count": 17,
      "metadata": {
        "colab": {
          "base_uri": "https://localhost:8080/"
        },
        "id": "D5GCJXSCQ5qp",
        "outputId": "ea75807d-d819-42a4-9fa9-1955ace946dd"
      },
      "outputs": [
        {
          "output_type": "execute_result",
          "data": {
            "text/plain": [
              "(18374, 7)"
            ]
          },
          "metadata": {},
          "execution_count": 17
        }
      ],
      "source": [
        "data.shape"
      ]
    },
    {
      "cell_type": "code",
      "execution_count": 18,
      "metadata": {
        "colab": {
          "base_uri": "https://localhost:8080/",
          "height": 449
        },
        "id": "_G9Dm_jvQpnR",
        "outputId": "522d1ef4-c9a5-4fb6-f57c-d2003b55e488"
      },
      "outputs": [
        {
          "output_type": "stream",
          "name": "stdout",
          "text": [
            "<class 'pandas.core.frame.DataFrame'>\n",
            "Int64Index: 18374 entries, 0 to 28418\n",
            "Data columns (total 7 columns):\n",
            " #   Column     Non-Null Count  Dtype \n",
            "---  ------     --------------  ----- \n",
            " 0   BrandName  18374 non-null  object\n",
            " 1   Deatils    18374 non-null  object\n",
            " 2   Sizes      18374 non-null  object\n",
            " 3   MRP        18374 non-null  int64 \n",
            " 4   SellPrice  18374 non-null  int64 \n",
            " 5   Discount   18374 non-null  int64 \n",
            " 6   Category   18374 non-null  object\n",
            "dtypes: int64(3), object(4)\n",
            "memory usage: 1.1+ MB\n"
          ]
        },
        {
          "output_type": "execute_result",
          "data": {
            "text/plain": [
              "     BrandName                                            Deatils  \\\n",
              "0         life  solid cotton blend collar neck womens a-line d...   \n",
              "1         only  polyester peter pan collar womens blouson dres...   \n",
              "2      fratini  solid polyester blend wide neck womens regular...   \n",
              "3  zink london  stripes polyester sweetheart neck womens dress...   \n",
              "4         life  regular fit regular length denim womens jeans ...   \n",
              "\n",
              "                                Sizes   MRP  SellPrice  Discount     Category  \n",
              "0  Large,Medium,Small,X-Large,X-Small  1699        849        50  Westernwear  \n",
              "1                         34,36,38,40  3499       2449        30  Westernwear  \n",
              "2              Large,X-Large,XX-Large  1199        599        50  Westernwear  \n",
              "3          Large,Medium,Small,X-Large  2299       1379        40  Westernwear  \n",
              "4                   26,28,30,32,34,36  1699        849        50  Westernwear  "
            ],
            "text/html": [
              "\n",
              "  <div id=\"df-4bd83a23-53cf-4f12-a989-59d3891f2433\">\n",
              "    <div class=\"colab-df-container\">\n",
              "      <div>\n",
              "<style scoped>\n",
              "    .dataframe tbody tr th:only-of-type {\n",
              "        vertical-align: middle;\n",
              "    }\n",
              "\n",
              "    .dataframe tbody tr th {\n",
              "        vertical-align: top;\n",
              "    }\n",
              "\n",
              "    .dataframe thead th {\n",
              "        text-align: right;\n",
              "    }\n",
              "</style>\n",
              "<table border=\"1\" class=\"dataframe\">\n",
              "  <thead>\n",
              "    <tr style=\"text-align: right;\">\n",
              "      <th></th>\n",
              "      <th>BrandName</th>\n",
              "      <th>Deatils</th>\n",
              "      <th>Sizes</th>\n",
              "      <th>MRP</th>\n",
              "      <th>SellPrice</th>\n",
              "      <th>Discount</th>\n",
              "      <th>Category</th>\n",
              "    </tr>\n",
              "  </thead>\n",
              "  <tbody>\n",
              "    <tr>\n",
              "      <th>0</th>\n",
              "      <td>life</td>\n",
              "      <td>solid cotton blend collar neck womens a-line d...</td>\n",
              "      <td>Large,Medium,Small,X-Large,X-Small</td>\n",
              "      <td>1699</td>\n",
              "      <td>849</td>\n",
              "      <td>50</td>\n",
              "      <td>Westernwear</td>\n",
              "    </tr>\n",
              "    <tr>\n",
              "      <th>1</th>\n",
              "      <td>only</td>\n",
              "      <td>polyester peter pan collar womens blouson dres...</td>\n",
              "      <td>34,36,38,40</td>\n",
              "      <td>3499</td>\n",
              "      <td>2449</td>\n",
              "      <td>30</td>\n",
              "      <td>Westernwear</td>\n",
              "    </tr>\n",
              "    <tr>\n",
              "      <th>2</th>\n",
              "      <td>fratini</td>\n",
              "      <td>solid polyester blend wide neck womens regular...</td>\n",
              "      <td>Large,X-Large,XX-Large</td>\n",
              "      <td>1199</td>\n",
              "      <td>599</td>\n",
              "      <td>50</td>\n",
              "      <td>Westernwear</td>\n",
              "    </tr>\n",
              "    <tr>\n",
              "      <th>3</th>\n",
              "      <td>zink london</td>\n",
              "      <td>stripes polyester sweetheart neck womens dress...</td>\n",
              "      <td>Large,Medium,Small,X-Large</td>\n",
              "      <td>2299</td>\n",
              "      <td>1379</td>\n",
              "      <td>40</td>\n",
              "      <td>Westernwear</td>\n",
              "    </tr>\n",
              "    <tr>\n",
              "      <th>4</th>\n",
              "      <td>life</td>\n",
              "      <td>regular fit regular length denim womens jeans ...</td>\n",
              "      <td>26,28,30,32,34,36</td>\n",
              "      <td>1699</td>\n",
              "      <td>849</td>\n",
              "      <td>50</td>\n",
              "      <td>Westernwear</td>\n",
              "    </tr>\n",
              "  </tbody>\n",
              "</table>\n",
              "</div>\n",
              "      <button class=\"colab-df-convert\" onclick=\"convertToInteractive('df-4bd83a23-53cf-4f12-a989-59d3891f2433')\"\n",
              "              title=\"Convert this dataframe to an interactive table.\"\n",
              "              style=\"display:none;\">\n",
              "        \n",
              "  <svg xmlns=\"http://www.w3.org/2000/svg\" height=\"24px\"viewBox=\"0 0 24 24\"\n",
              "       width=\"24px\">\n",
              "    <path d=\"M0 0h24v24H0V0z\" fill=\"none\"/>\n",
              "    <path d=\"M18.56 5.44l.94 2.06.94-2.06 2.06-.94-2.06-.94-.94-2.06-.94 2.06-2.06.94zm-11 1L8.5 8.5l.94-2.06 2.06-.94-2.06-.94L8.5 2.5l-.94 2.06-2.06.94zm10 10l.94 2.06.94-2.06 2.06-.94-2.06-.94-.94-2.06-.94 2.06-2.06.94z\"/><path d=\"M17.41 7.96l-1.37-1.37c-.4-.4-.92-.59-1.43-.59-.52 0-1.04.2-1.43.59L10.3 9.45l-7.72 7.72c-.78.78-.78 2.05 0 2.83L4 21.41c.39.39.9.59 1.41.59.51 0 1.02-.2 1.41-.59l7.78-7.78 2.81-2.81c.8-.78.8-2.07 0-2.86zM5.41 20L4 18.59l7.72-7.72 1.47 1.35L5.41 20z\"/>\n",
              "  </svg>\n",
              "      </button>\n",
              "      \n",
              "  <style>\n",
              "    .colab-df-container {\n",
              "      display:flex;\n",
              "      flex-wrap:wrap;\n",
              "      gap: 12px;\n",
              "    }\n",
              "\n",
              "    .colab-df-convert {\n",
              "      background-color: #E8F0FE;\n",
              "      border: none;\n",
              "      border-radius: 50%;\n",
              "      cursor: pointer;\n",
              "      display: none;\n",
              "      fill: #1967D2;\n",
              "      height: 32px;\n",
              "      padding: 0 0 0 0;\n",
              "      width: 32px;\n",
              "    }\n",
              "\n",
              "    .colab-df-convert:hover {\n",
              "      background-color: #E2EBFA;\n",
              "      box-shadow: 0px 1px 2px rgba(60, 64, 67, 0.3), 0px 1px 3px 1px rgba(60, 64, 67, 0.15);\n",
              "      fill: #174EA6;\n",
              "    }\n",
              "\n",
              "    [theme=dark] .colab-df-convert {\n",
              "      background-color: #3B4455;\n",
              "      fill: #D2E3FC;\n",
              "    }\n",
              "\n",
              "    [theme=dark] .colab-df-convert:hover {\n",
              "      background-color: #434B5C;\n",
              "      box-shadow: 0px 1px 3px 1px rgba(0, 0, 0, 0.15);\n",
              "      filter: drop-shadow(0px 1px 2px rgba(0, 0, 0, 0.3));\n",
              "      fill: #FFFFFF;\n",
              "    }\n",
              "  </style>\n",
              "\n",
              "      <script>\n",
              "        const buttonEl =\n",
              "          document.querySelector('#df-4bd83a23-53cf-4f12-a989-59d3891f2433 button.colab-df-convert');\n",
              "        buttonEl.style.display =\n",
              "          google.colab.kernel.accessAllowed ? 'block' : 'none';\n",
              "\n",
              "        async function convertToInteractive(key) {\n",
              "          const element = document.querySelector('#df-4bd83a23-53cf-4f12-a989-59d3891f2433');\n",
              "          const dataTable =\n",
              "            await google.colab.kernel.invokeFunction('convertToInteractive',\n",
              "                                                     [key], {});\n",
              "          if (!dataTable) return;\n",
              "\n",
              "          const docLinkHtml = 'Like what you see? Visit the ' +\n",
              "            '<a target=\"_blank\" href=https://colab.research.google.com/notebooks/data_table.ipynb>data table notebook</a>'\n",
              "            + ' to learn more about interactive tables.';\n",
              "          element.innerHTML = '';\n",
              "          dataTable['output_type'] = 'display_data';\n",
              "          await google.colab.output.renderOutput(dataTable, element);\n",
              "          const docLink = document.createElement('div');\n",
              "          docLink.innerHTML = docLinkHtml;\n",
              "          element.appendChild(docLink);\n",
              "        }\n",
              "      </script>\n",
              "    </div>\n",
              "  </div>\n",
              "  "
            ]
          },
          "metadata": {},
          "execution_count": 18
        }
      ],
      "source": [
        "data.info()\n",
        "data.head()"
      ]
    },
    {
      "cell_type": "code",
      "execution_count": 19,
      "metadata": {
        "colab": {
          "base_uri": "https://localhost:8080/",
          "height": 206
        },
        "id": "7QZpKXg4SWhN",
        "outputId": "faf9c99d-0296-4004-df12-ddae6d611c32"
      },
      "outputs": [
        {
          "output_type": "execute_result",
          "data": {
            "text/plain": [
              "     BrandName                                            Deatils  \\\n",
              "0         life  solid cotton blend collar neck womens a-line d...   \n",
              "1         only  polyester peter pan collar womens blouson dres...   \n",
              "2      fratini  solid polyester blend wide neck womens regular...   \n",
              "3  zink london  stripes polyester sweetheart neck womens dress...   \n",
              "4         life  regular fit regular length denim womens jeans ...   \n",
              "\n",
              "                                Sizes   MRP  SellPrice  Discount     Category  \\\n",
              "0  Large,Medium,Small,X-Large,X-Small  1699        849        50  Westernwear   \n",
              "1                         34,36,38,40  3499       2449        30  Westernwear   \n",
              "2              Large,X-Large,XX-Large  1199        599        50  Westernwear   \n",
              "3          Large,Medium,Small,X-Large  2299       1379        40  Westernwear   \n",
              "4                   26,28,30,32,34,36  1699        849        50  Westernwear   \n",
              "\n",
              "   BrandCount  \n",
              "0         554  \n",
              "1         376  \n",
              "2         204  \n",
              "3         917  \n",
              "4         554  "
            ],
            "text/html": [
              "\n",
              "  <div id=\"df-1fb7a3f2-c964-404d-9db5-0aa38bf17872\">\n",
              "    <div class=\"colab-df-container\">\n",
              "      <div>\n",
              "<style scoped>\n",
              "    .dataframe tbody tr th:only-of-type {\n",
              "        vertical-align: middle;\n",
              "    }\n",
              "\n",
              "    .dataframe tbody tr th {\n",
              "        vertical-align: top;\n",
              "    }\n",
              "\n",
              "    .dataframe thead th {\n",
              "        text-align: right;\n",
              "    }\n",
              "</style>\n",
              "<table border=\"1\" class=\"dataframe\">\n",
              "  <thead>\n",
              "    <tr style=\"text-align: right;\">\n",
              "      <th></th>\n",
              "      <th>BrandName</th>\n",
              "      <th>Deatils</th>\n",
              "      <th>Sizes</th>\n",
              "      <th>MRP</th>\n",
              "      <th>SellPrice</th>\n",
              "      <th>Discount</th>\n",
              "      <th>Category</th>\n",
              "      <th>BrandCount</th>\n",
              "    </tr>\n",
              "  </thead>\n",
              "  <tbody>\n",
              "    <tr>\n",
              "      <th>0</th>\n",
              "      <td>life</td>\n",
              "      <td>solid cotton blend collar neck womens a-line d...</td>\n",
              "      <td>Large,Medium,Small,X-Large,X-Small</td>\n",
              "      <td>1699</td>\n",
              "      <td>849</td>\n",
              "      <td>50</td>\n",
              "      <td>Westernwear</td>\n",
              "      <td>554</td>\n",
              "    </tr>\n",
              "    <tr>\n",
              "      <th>1</th>\n",
              "      <td>only</td>\n",
              "      <td>polyester peter pan collar womens blouson dres...</td>\n",
              "      <td>34,36,38,40</td>\n",
              "      <td>3499</td>\n",
              "      <td>2449</td>\n",
              "      <td>30</td>\n",
              "      <td>Westernwear</td>\n",
              "      <td>376</td>\n",
              "    </tr>\n",
              "    <tr>\n",
              "      <th>2</th>\n",
              "      <td>fratini</td>\n",
              "      <td>solid polyester blend wide neck womens regular...</td>\n",
              "      <td>Large,X-Large,XX-Large</td>\n",
              "      <td>1199</td>\n",
              "      <td>599</td>\n",
              "      <td>50</td>\n",
              "      <td>Westernwear</td>\n",
              "      <td>204</td>\n",
              "    </tr>\n",
              "    <tr>\n",
              "      <th>3</th>\n",
              "      <td>zink london</td>\n",
              "      <td>stripes polyester sweetheart neck womens dress...</td>\n",
              "      <td>Large,Medium,Small,X-Large</td>\n",
              "      <td>2299</td>\n",
              "      <td>1379</td>\n",
              "      <td>40</td>\n",
              "      <td>Westernwear</td>\n",
              "      <td>917</td>\n",
              "    </tr>\n",
              "    <tr>\n",
              "      <th>4</th>\n",
              "      <td>life</td>\n",
              "      <td>regular fit regular length denim womens jeans ...</td>\n",
              "      <td>26,28,30,32,34,36</td>\n",
              "      <td>1699</td>\n",
              "      <td>849</td>\n",
              "      <td>50</td>\n",
              "      <td>Westernwear</td>\n",
              "      <td>554</td>\n",
              "    </tr>\n",
              "  </tbody>\n",
              "</table>\n",
              "</div>\n",
              "      <button class=\"colab-df-convert\" onclick=\"convertToInteractive('df-1fb7a3f2-c964-404d-9db5-0aa38bf17872')\"\n",
              "              title=\"Convert this dataframe to an interactive table.\"\n",
              "              style=\"display:none;\">\n",
              "        \n",
              "  <svg xmlns=\"http://www.w3.org/2000/svg\" height=\"24px\"viewBox=\"0 0 24 24\"\n",
              "       width=\"24px\">\n",
              "    <path d=\"M0 0h24v24H0V0z\" fill=\"none\"/>\n",
              "    <path d=\"M18.56 5.44l.94 2.06.94-2.06 2.06-.94-2.06-.94-.94-2.06-.94 2.06-2.06.94zm-11 1L8.5 8.5l.94-2.06 2.06-.94-2.06-.94L8.5 2.5l-.94 2.06-2.06.94zm10 10l.94 2.06.94-2.06 2.06-.94-2.06-.94-.94-2.06-.94 2.06-2.06.94z\"/><path d=\"M17.41 7.96l-1.37-1.37c-.4-.4-.92-.59-1.43-.59-.52 0-1.04.2-1.43.59L10.3 9.45l-7.72 7.72c-.78.78-.78 2.05 0 2.83L4 21.41c.39.39.9.59 1.41.59.51 0 1.02-.2 1.41-.59l7.78-7.78 2.81-2.81c.8-.78.8-2.07 0-2.86zM5.41 20L4 18.59l7.72-7.72 1.47 1.35L5.41 20z\"/>\n",
              "  </svg>\n",
              "      </button>\n",
              "      \n",
              "  <style>\n",
              "    .colab-df-container {\n",
              "      display:flex;\n",
              "      flex-wrap:wrap;\n",
              "      gap: 12px;\n",
              "    }\n",
              "\n",
              "    .colab-df-convert {\n",
              "      background-color: #E8F0FE;\n",
              "      border: none;\n",
              "      border-radius: 50%;\n",
              "      cursor: pointer;\n",
              "      display: none;\n",
              "      fill: #1967D2;\n",
              "      height: 32px;\n",
              "      padding: 0 0 0 0;\n",
              "      width: 32px;\n",
              "    }\n",
              "\n",
              "    .colab-df-convert:hover {\n",
              "      background-color: #E2EBFA;\n",
              "      box-shadow: 0px 1px 2px rgba(60, 64, 67, 0.3), 0px 1px 3px 1px rgba(60, 64, 67, 0.15);\n",
              "      fill: #174EA6;\n",
              "    }\n",
              "\n",
              "    [theme=dark] .colab-df-convert {\n",
              "      background-color: #3B4455;\n",
              "      fill: #D2E3FC;\n",
              "    }\n",
              "\n",
              "    [theme=dark] .colab-df-convert:hover {\n",
              "      background-color: #434B5C;\n",
              "      box-shadow: 0px 1px 3px 1px rgba(0, 0, 0, 0.15);\n",
              "      filter: drop-shadow(0px 1px 2px rgba(0, 0, 0, 0.3));\n",
              "      fill: #FFFFFF;\n",
              "    }\n",
              "  </style>\n",
              "\n",
              "      <script>\n",
              "        const buttonEl =\n",
              "          document.querySelector('#df-1fb7a3f2-c964-404d-9db5-0aa38bf17872 button.colab-df-convert');\n",
              "        buttonEl.style.display =\n",
              "          google.colab.kernel.accessAllowed ? 'block' : 'none';\n",
              "\n",
              "        async function convertToInteractive(key) {\n",
              "          const element = document.querySelector('#df-1fb7a3f2-c964-404d-9db5-0aa38bf17872');\n",
              "          const dataTable =\n",
              "            await google.colab.kernel.invokeFunction('convertToInteractive',\n",
              "                                                     [key], {});\n",
              "          if (!dataTable) return;\n",
              "\n",
              "          const docLinkHtml = 'Like what you see? Visit the ' +\n",
              "            '<a target=\"_blank\" href=https://colab.research.google.com/notebooks/data_table.ipynb>data table notebook</a>'\n",
              "            + ' to learn more about interactive tables.';\n",
              "          element.innerHTML = '';\n",
              "          dataTable['output_type'] = 'display_data';\n",
              "          await google.colab.output.renderOutput(dataTable, element);\n",
              "          const docLink = document.createElement('div');\n",
              "          docLink.innerHTML = docLinkHtml;\n",
              "          element.appendChild(docLink);\n",
              "        }\n",
              "      </script>\n",
              "    </div>\n",
              "  </div>\n",
              "  "
            ]
          },
          "metadata": {},
          "execution_count": 19
        }
      ],
      "source": [
        "count = data['BrandName'].value_counts()\n",
        "data['BrandCount'] = data['BrandName'].apply(lambda i: count[i])\n",
        "data.head()"
      ]
    },
    {
      "cell_type": "code",
      "execution_count": 20,
      "metadata": {
        "colab": {
          "base_uri": "https://localhost:8080/",
          "height": 175
        },
        "id": "zWKQEGGEY491",
        "outputId": "6fc66222-72f2-448f-8416-eb735ce5d4f4"
      },
      "outputs": [
        {
          "output_type": "execute_result",
          "data": {
            "text/plain": [
              "           count unique                                      top  freq\n",
              "BrandName  18374    105                              zink london   917\n",
              "Deatils    18374  15456  synthetic womens casual sandals - black    36\n",
              "Sizes      18374    936       Large,Medium,Small,X-Large,X-Small  1754\n",
              "Category   18374      5                              Westernwear  8221"
            ],
            "text/html": [
              "\n",
              "  <div id=\"df-8b9ebcc1-d329-4ac1-abce-d59a0d3e597c\">\n",
              "    <div class=\"colab-df-container\">\n",
              "      <div>\n",
              "<style scoped>\n",
              "    .dataframe tbody tr th:only-of-type {\n",
              "        vertical-align: middle;\n",
              "    }\n",
              "\n",
              "    .dataframe tbody tr th {\n",
              "        vertical-align: top;\n",
              "    }\n",
              "\n",
              "    .dataframe thead th {\n",
              "        text-align: right;\n",
              "    }\n",
              "</style>\n",
              "<table border=\"1\" class=\"dataframe\">\n",
              "  <thead>\n",
              "    <tr style=\"text-align: right;\">\n",
              "      <th></th>\n",
              "      <th>count</th>\n",
              "      <th>unique</th>\n",
              "      <th>top</th>\n",
              "      <th>freq</th>\n",
              "    </tr>\n",
              "  </thead>\n",
              "  <tbody>\n",
              "    <tr>\n",
              "      <th>BrandName</th>\n",
              "      <td>18374</td>\n",
              "      <td>105</td>\n",
              "      <td>zink london</td>\n",
              "      <td>917</td>\n",
              "    </tr>\n",
              "    <tr>\n",
              "      <th>Deatils</th>\n",
              "      <td>18374</td>\n",
              "      <td>15456</td>\n",
              "      <td>synthetic womens casual sandals - black</td>\n",
              "      <td>36</td>\n",
              "    </tr>\n",
              "    <tr>\n",
              "      <th>Sizes</th>\n",
              "      <td>18374</td>\n",
              "      <td>936</td>\n",
              "      <td>Large,Medium,Small,X-Large,X-Small</td>\n",
              "      <td>1754</td>\n",
              "    </tr>\n",
              "    <tr>\n",
              "      <th>Category</th>\n",
              "      <td>18374</td>\n",
              "      <td>5</td>\n",
              "      <td>Westernwear</td>\n",
              "      <td>8221</td>\n",
              "    </tr>\n",
              "  </tbody>\n",
              "</table>\n",
              "</div>\n",
              "      <button class=\"colab-df-convert\" onclick=\"convertToInteractive('df-8b9ebcc1-d329-4ac1-abce-d59a0d3e597c')\"\n",
              "              title=\"Convert this dataframe to an interactive table.\"\n",
              "              style=\"display:none;\">\n",
              "        \n",
              "  <svg xmlns=\"http://www.w3.org/2000/svg\" height=\"24px\"viewBox=\"0 0 24 24\"\n",
              "       width=\"24px\">\n",
              "    <path d=\"M0 0h24v24H0V0z\" fill=\"none\"/>\n",
              "    <path d=\"M18.56 5.44l.94 2.06.94-2.06 2.06-.94-2.06-.94-.94-2.06-.94 2.06-2.06.94zm-11 1L8.5 8.5l.94-2.06 2.06-.94-2.06-.94L8.5 2.5l-.94 2.06-2.06.94zm10 10l.94 2.06.94-2.06 2.06-.94-2.06-.94-.94-2.06-.94 2.06-2.06.94z\"/><path d=\"M17.41 7.96l-1.37-1.37c-.4-.4-.92-.59-1.43-.59-.52 0-1.04.2-1.43.59L10.3 9.45l-7.72 7.72c-.78.78-.78 2.05 0 2.83L4 21.41c.39.39.9.59 1.41.59.51 0 1.02-.2 1.41-.59l7.78-7.78 2.81-2.81c.8-.78.8-2.07 0-2.86zM5.41 20L4 18.59l7.72-7.72 1.47 1.35L5.41 20z\"/>\n",
              "  </svg>\n",
              "      </button>\n",
              "      \n",
              "  <style>\n",
              "    .colab-df-container {\n",
              "      display:flex;\n",
              "      flex-wrap:wrap;\n",
              "      gap: 12px;\n",
              "    }\n",
              "\n",
              "    .colab-df-convert {\n",
              "      background-color: #E8F0FE;\n",
              "      border: none;\n",
              "      border-radius: 50%;\n",
              "      cursor: pointer;\n",
              "      display: none;\n",
              "      fill: #1967D2;\n",
              "      height: 32px;\n",
              "      padding: 0 0 0 0;\n",
              "      width: 32px;\n",
              "    }\n",
              "\n",
              "    .colab-df-convert:hover {\n",
              "      background-color: #E2EBFA;\n",
              "      box-shadow: 0px 1px 2px rgba(60, 64, 67, 0.3), 0px 1px 3px 1px rgba(60, 64, 67, 0.15);\n",
              "      fill: #174EA6;\n",
              "    }\n",
              "\n",
              "    [theme=dark] .colab-df-convert {\n",
              "      background-color: #3B4455;\n",
              "      fill: #D2E3FC;\n",
              "    }\n",
              "\n",
              "    [theme=dark] .colab-df-convert:hover {\n",
              "      background-color: #434B5C;\n",
              "      box-shadow: 0px 1px 3px 1px rgba(0, 0, 0, 0.15);\n",
              "      filter: drop-shadow(0px 1px 2px rgba(0, 0, 0, 0.3));\n",
              "      fill: #FFFFFF;\n",
              "    }\n",
              "  </style>\n",
              "\n",
              "      <script>\n",
              "        const buttonEl =\n",
              "          document.querySelector('#df-8b9ebcc1-d329-4ac1-abce-d59a0d3e597c button.colab-df-convert');\n",
              "        buttonEl.style.display =\n",
              "          google.colab.kernel.accessAllowed ? 'block' : 'none';\n",
              "\n",
              "        async function convertToInteractive(key) {\n",
              "          const element = document.querySelector('#df-8b9ebcc1-d329-4ac1-abce-d59a0d3e597c');\n",
              "          const dataTable =\n",
              "            await google.colab.kernel.invokeFunction('convertToInteractive',\n",
              "                                                     [key], {});\n",
              "          if (!dataTable) return;\n",
              "\n",
              "          const docLinkHtml = 'Like what you see? Visit the ' +\n",
              "            '<a target=\"_blank\" href=https://colab.research.google.com/notebooks/data_table.ipynb>data table notebook</a>'\n",
              "            + ' to learn more about interactive tables.';\n",
              "          element.innerHTML = '';\n",
              "          dataTable['output_type'] = 'display_data';\n",
              "          await google.colab.output.renderOutput(dataTable, element);\n",
              "          const docLink = document.createElement('div');\n",
              "          docLink.innerHTML = docLinkHtml;\n",
              "          element.appendChild(docLink);\n",
              "        }\n",
              "      </script>\n",
              "    </div>\n",
              "  </div>\n",
              "  "
            ]
          },
          "metadata": {},
          "execution_count": 20
        }
      ],
      "source": [
        "data.describe(include=object).T"
      ]
    },
    {
      "cell_type": "code",
      "execution_count": 21,
      "metadata": {
        "colab": {
          "base_uri": "https://localhost:8080/",
          "height": 286
        },
        "id": "Ib5LylxXehiU",
        "outputId": "b09f3676-343f-48eb-fb15-32a2b58ac1cf"
      },
      "outputs": [
        {
          "output_type": "execute_result",
          "data": {
            "text/plain": [
              "<matplotlib.axes._subplots.AxesSubplot at 0x7fe70098a490>"
            ]
          },
          "metadata": {},
          "execution_count": 21
        },
        {
          "output_type": "display_data",
          "data": {
            "text/plain": [
              "<Figure size 432x288 with 2 Axes>"
            ],
            "image/png": "[encoded data removed]"
          },
          "metadata": {
            "needs_background": "light"
          }
        }
      ],
      "source": [
        "sns.heatmap(data.corr(),annot=True,cmap='coolwarm',linewidths=0.2)"
      ]
    },
    {
      "cell_type": "code",
      "execution_count": 22,
      "metadata": {
        "colab": {
          "base_uri": "https://localhost:8080/",
          "height": 248
        },
        "id": "OQa_6SAhiEOw",
        "outputId": "46e789da-66fd-4bcd-e9fb-6ee9d18db433"
      },
      "outputs": [
        {
          "output_type": "display_data",
          "data": {
            "text/plain": [
              "<Figure size 432x288 with 1 Axes>"
            ],
            "image/png": "[encoded data removed]"
          },
          "metadata": {}
        }
      ],
      "source": [
        "max = data['Category'].value_counts()\n",
        "labels = data['Category'].value_counts().index\n",
        "colors = sns.color_palette('pastel')[0:5]\n",
        "plt.pie(max, labels = labels, colors = colors, autopct='%.0f%%')\n",
        "plt.show()"
      ]
    },
    {
      "cell_type": "code",
      "execution_count": 23,
      "metadata": {
        "colab": {
          "base_uri": "https://localhost:8080/",
          "height": 1000
        },
        "id": "quJsLvZFYF3b",
        "outputId": "757c51b0-757f-4aa0-f3ac-50407dd9cef9"
      },
      "outputs": [
        {
          "output_type": "execute_result",
          "data": {
            "text/plain": [
              "array([[<matplotlib.axes._subplots.AxesSubplot object at 0x7fe6fdbbd790>,\n",
              "        <matplotlib.axes._subplots.AxesSubplot object at 0x7fe7009059d0>,\n",
              "        <matplotlib.axes._subplots.AxesSubplot object at 0x7fe6fdada9d0>,\n",
              "        <matplotlib.axes._subplots.AxesSubplot object at 0x7fe6fda9e190>],\n",
              "       [<matplotlib.axes._subplots.AxesSubplot object at 0x7fe6fda53590>,\n",
              "        <matplotlib.axes._subplots.AxesSubplot object at 0x7fe6fda08b90>,\n",
              "        <matplotlib.axes._subplots.AxesSubplot object at 0x7fe6fd9c91d0>,\n",
              "        <matplotlib.axes._subplots.AxesSubplot object at 0x7fe6fda007d0>],\n",
              "       [<matplotlib.axes._subplots.AxesSubplot object at 0x7fe6fd98c890>,\n",
              "        <matplotlib.axes._subplots.AxesSubplot object at 0x7fe6fd9c2f90>,\n",
              "        <matplotlib.axes._subplots.AxesSubplot object at 0x7fe6fd934a10>,\n",
              "        <matplotlib.axes._subplots.AxesSubplot object at 0x7fe6fd8f5050>],\n",
              "       [<matplotlib.axes._subplots.AxesSubplot object at 0x7fe6fd8ae650>,\n",
              "        <matplotlib.axes._subplots.AxesSubplot object at 0x7fe6fd865c50>,\n",
              "        <matplotlib.axes._subplots.AxesSubplot object at 0x7fe6fd829290>,\n",
              "        <matplotlib.axes._subplots.AxesSubplot object at 0x7fe6fd7e0890>]],\n",
              "      dtype=object)"
            ]
          },
          "metadata": {},
          "execution_count": 23
        },
        {
          "output_type": "display_data",
          "data": {
            "text/plain": [
              "<Figure size 864x864 with 16 Axes>"
            ],
            "image/png": "[encoded data removed]"
          },
          "metadata": {
            "needs_background": "light"
          }
        }
      ],
      "source": [
        "from pandas.plotting import scatter_matrix\n",
        "\n",
        "scatter_matrix(data, figsize = (12, 12), alpha = 0.5)"
      ]
    },
    {
      "cell_type": "code",
      "execution_count": 24,
      "metadata": {
        "colab": {
          "base_uri": "https://localhost:8080/",
          "height": 351
        },
        "id": "MZPUOJ1Rd03y",
        "outputId": "4d0e0487-624b-448e-ee43-4953b8243524"
      },
      "outputs": [
        {
          "output_type": "stream",
          "name": "stderr",
          "text": [
            "/usr/local/lib/python3.7/dist-packages/seaborn/_decorators.py:43: FutureWarning: Pass the following variables as keyword args: x, y. From version 0.12, the only valid positional argument will be `data`, and passing other arguments without an explicit keyword will result in an error or misinterpretation.\n",
            "  FutureWarning\n"
          ]
        },
        {
          "output_type": "execute_result",
          "data": {
            "text/plain": [
              "<matplotlib.axes._subplots.AxesSubplot at 0x7fe6fd514690>"
            ]
          },
          "metadata": {},
          "execution_count": 24
        },
        {
          "output_type": "display_data",
          "data": {
            "text/plain": [
              "<Figure size 432x288 with 1 Axes>"
            ],
            "image/png": "[encoded data removed]"
          },
          "metadata": {
            "needs_background": "light"
          }
        }
      ],
      "source": [
        "sns.scatterplot(data['MRP'], data['SellPrice'], hue = data['Category'])"
      ]
    },
    {
      "cell_type": "code",
      "execution_count": 25,
      "metadata": {
        "colab": {
          "base_uri": "https://localhost:8080/"
        },
        "id": "C1V7mcNLNoJv",
        "outputId": "759748d6-a5fb-4c9f-86e9-bb3229ad7aa0"
      },
      "outputs": [
        {
          "output_type": "execute_result",
          "data": {
            "text/plain": [
              "count    18374.000000\n",
              "mean      2136.928704\n",
              "std       1189.416850\n",
              "min        171.000000\n",
              "25%       1299.000000\n",
              "50%       1899.000000\n",
              "75%       2663.000000\n",
              "max      16999.000000\n",
              "Name: MRP, dtype: float64"
            ]
          },
          "metadata": {},
          "execution_count": 25
        }
      ],
      "source": [
        "data['MRP'].describe()"
      ]
    },
    {
      "cell_type": "code",
      "execution_count": 26,
      "metadata": {
        "colab": {
          "base_uri": "https://localhost:8080/"
        },
        "id": "oKTWUmwhOVJN",
        "outputId": "ed561e58-fa9b-4da7-ca51-2aab20db1c2a"
      },
      "outputs": [
        {
          "output_type": "execute_result",
          "data": {
            "text/plain": [
              "count    18374.000000\n",
              "mean      1163.798846\n",
              "std        744.201506\n",
              "min        114.000000\n",
              "25%        659.000000\n",
              "50%        995.000000\n",
              "75%       1469.000000\n",
              "max      13599.000000\n",
              "Name: SellPrice, dtype: float64"
            ]
          },
          "metadata": {},
          "execution_count": 26
        }
      ],
      "source": [
        "data['SellPrice'].describe()"
      ]
    },
    {
      "cell_type": "code",
      "execution_count": 27,
      "metadata": {
        "colab": {
          "base_uri": "https://localhost:8080/"
        },
        "id": "mHZNxgV_OYjX",
        "outputId": "935cf162-1d4f-46ce-ebd1-b69917e4e6de"
      },
      "outputs": [
        {
          "output_type": "execute_result",
          "data": {
            "text/plain": [
              "count    18374.000000\n",
              "mean       396.483945\n",
              "std        236.173793\n",
              "min          1.000000\n",
              "25%        211.000000\n",
              "50%        375.000000\n",
              "75%        554.000000\n",
              "max        917.000000\n",
              "Name: BrandCount, dtype: float64"
            ]
          },
          "metadata": {},
          "execution_count": 27
        }
      ],
      "source": [
        "data['BrandCount'].describe()"
      ]
    },
    {
      "cell_type": "code",
      "execution_count": 28,
      "metadata": {
        "colab": {
          "base_uri": "https://localhost:8080/"
        },
        "id": "J1_r-JoSPZv0",
        "outputId": "5f218f9b-0567-4ad9-e4b9-5f882e10c023"
      },
      "outputs": [
        {
          "output_type": "execute_result",
          "data": {
            "text/plain": [
              "count    18374.000000\n",
              "mean        45.283335\n",
              "std         14.203666\n",
              "min          0.000000\n",
              "25%         35.000000\n",
              "50%         50.000000\n",
              "75%         50.000000\n",
              "max         85.000000\n",
              "Name: Discount, dtype: float64"
            ]
          },
          "metadata": {},
          "execution_count": 28
        }
      ],
      "source": [
        "data['Discount'].describe()"
      ]
    },
    {
      "cell_type": "markdown",
      "metadata": {
        "id": "sAkFpyiMuTs_"
      },
      "source": [
        "## Data Pre-processing"
      ]
    },
    {
      "cell_type": "code",
      "execution_count": 29,
      "metadata": {
        "id": "OLeUpNa3nl5s"
      },
      "outputs": [],
      "source": [
        "data.drop(columns = [\"Deatils\", \"Sizes\", \"Category\"], inplace = True)"
      ]
    },
    {
      "cell_type": "code",
      "execution_count": 30,
      "metadata": {
        "id": "ZYqr8Vl6n15J"
      },
      "outputs": [],
      "source": [
        "columns_titles = [\"BrandName\", \"MRP\", \"Discount\", \"SellPrice\", \"BrandCount\"]\n",
        "data['MRP'] = data['MRP'].astype(str)\n",
        "data['Discount'] = data['Discount'].astype(str)\n",
        "data['SellPrice'] = data['SellPrice'].astype(str)\n",
        "data = data.reindex(columns = columns_titles)"
      ]
    },
    {
      "cell_type": "code",
      "execution_count": 31,
      "metadata": {
        "colab": {
          "base_uri": "https://localhost:8080/",
          "height": 424
        },
        "id": "s9PRvgSloFbo",
        "outputId": "28dc731c-8f37-4fe9-9d2f-35b5033e229c"
      },
      "outputs": [
        {
          "output_type": "execute_result",
          "data": {
            "text/plain": [
              "            BrandName    MRP Discount SellPrice  BrandCount\n",
              "0                life   1699       50       849         554\n",
              "1                only   3499       30      2449         376\n",
              "2             fratini   1199       50       599         204\n",
              "3         zink london   2299       40      1379         917\n",
              "4                life   1699       50       849         554\n",
              "...               ...    ...      ...       ...         ...\n",
              "26673  lemon & pepper   2999       50      1499         162\n",
              "26674     haute curry   2199       50      1099         386\n",
              "26885     swiss eagle  13990       70      4197           1\n",
              "27290  lawman watches   7499       33      4999           2\n",
              "28418  lawman watches   5999       33      3999           2\n",
              "\n",
              "[18374 rows x 5 columns]"
            ],
            "text/html": [
              "\n",
              "  <div id=\"df-bb19542c-d983-4242-b3a2-db39193624fb\">\n",
              "    <div class=\"colab-df-container\">\n",
              "      <div>\n",
              "<style scoped>\n",
              "    .dataframe tbody tr th:only-of-type {\n",
              "        vertical-align: middle;\n",
              "    }\n",
              "\n",
              "    .dataframe tbody tr th {\n",
              "        vertical-align: top;\n",
              "    }\n",
              "\n",
              "    .dataframe thead th {\n",
              "        text-align: right;\n",
              "    }\n",
              "</style>\n",
              "<table border=\"1\" class=\"dataframe\">\n",
              "  <thead>\n",
              "    <tr style=\"text-align: right;\">\n",
              "      <th></th>\n",
              "      <th>BrandName</th>\n",
              "      <th>MRP</th>\n",
              "      <th>Discount</th>\n",
              "      <th>SellPrice</th>\n",
              "      <th>BrandCount</th>\n",
              "    </tr>\n",
              "  </thead>\n",
              "  <tbody>\n",
              "    <tr>\n",
              "      <th>0</th>\n",
              "      <td>life</td>\n",
              "      <td>1699</td>\n",
              "      <td>50</td>\n",
              "      <td>849</td>\n",
              "      <td>554</td>\n",
              "    </tr>\n",
              "    <tr>\n",
              "      <th>1</th>\n",
              "      <td>only</td>\n",
              "      <td>3499</td>\n",
              "      <td>30</td>\n",
              "      <td>2449</td>\n",
              "      <td>376</td>\n",
              "    </tr>\n",
              "    <tr>\n",
              "      <th>2</th>\n",
              "      <td>fratini</td>\n",
              "      <td>1199</td>\n",
              "      <td>50</td>\n",
              "      <td>599</td>\n",
              "      <td>204</td>\n",
              "    </tr>\n",
              "    <tr>\n",
              "      <th>3</th>\n",
              "      <td>zink london</td>\n",
              "      <td>2299</td>\n",
              "      <td>40</td>\n",
              "      <td>1379</td>\n",
              "      <td>917</td>\n",
              "    </tr>\n",
              "    <tr>\n",
              "      <th>4</th>\n",
              "      <td>life</td>\n",
              "      <td>1699</td>\n",
              "      <td>50</td>\n",
              "      <td>849</td>\n",
              "      <td>554</td>\n",
              "    </tr>\n",
              "    <tr>\n",
              "      <th>...</th>\n",
              "      <td>...</td>\n",
              "      <td>...</td>\n",
              "      <td>...</td>\n",
              "      <td>...</td>\n",
              "      <td>...</td>\n",
              "    </tr>\n",
              "    <tr>\n",
              "      <th>26673</th>\n",
              "      <td>lemon &amp; pepper</td>\n",
              "      <td>2999</td>\n",
              "      <td>50</td>\n",
              "      <td>1499</td>\n",
              "      <td>162</td>\n",
              "    </tr>\n",
              "    <tr>\n",
              "      <th>26674</th>\n",
              "      <td>haute curry</td>\n",
              "      <td>2199</td>\n",
              "      <td>50</td>\n",
              "      <td>1099</td>\n",
              "      <td>386</td>\n",
              "    </tr>\n",
              "    <tr>\n",
              "      <th>26885</th>\n",
              "      <td>swiss eagle</td>\n",
              "      <td>13990</td>\n",
              "      <td>70</td>\n",
              "      <td>4197</td>\n",
              "      <td>1</td>\n",
              "    </tr>\n",
              "    <tr>\n",
              "      <th>27290</th>\n",
              "      <td>lawman watches</td>\n",
              "      <td>7499</td>\n",
              "      <td>33</td>\n",
              "      <td>4999</td>\n",
              "      <td>2</td>\n",
              "    </tr>\n",
              "    <tr>\n",
              "      <th>28418</th>\n",
              "      <td>lawman watches</td>\n",
              "      <td>5999</td>\n",
              "      <td>33</td>\n",
              "      <td>3999</td>\n",
              "      <td>2</td>\n",
              "    </tr>\n",
              "  </tbody>\n",
              "</table>\n",
              "<p>18374 rows × 5 columns</p>\n",
              "</div>\n",
              "      <button class=\"colab-df-convert\" onclick=\"convertToInteractive('df-bb19542c-d983-4242-b3a2-db39193624fb')\"\n",
              "              title=\"Convert this dataframe to an interactive table.\"\n",
              "              style=\"display:none;\">\n",
              "        \n",
              "  <svg xmlns=\"http://www.w3.org/2000/svg\" height=\"24px\"viewBox=\"0 0 24 24\"\n",
              "       width=\"24px\">\n",
              "    <path d=\"M0 0h24v24H0V0z\" fill=\"none\"/>\n",
              "    <path d=\"M18.56 5.44l.94 2.06.94-2.06 2.06-.94-2.06-.94-.94-2.06-.94 2.06-2.06.94zm-11 1L8.5 8.5l.94-2.06 2.06-.94-2.06-.94L8.5 2.5l-.94 2.06-2.06.94zm10 10l.94 2.06.94-2.06 2.06-.94-2.06-.94-.94-2.06-.94 2.06-2.06.94z\"/><path d=\"M17.41 7.96l-1.37-1.37c-.4-.4-.92-.59-1.43-.59-.52 0-1.04.2-1.43.59L10.3 9.45l-7.72 7.72c-.78.78-.78 2.05 0 2.83L4 21.41c.39.39.9.59 1.41.59.51 0 1.02-.2 1.41-.59l7.78-7.78 2.81-2.81c.8-.78.8-2.07 0-2.86zM5.41 20L4 18.59l7.72-7.72 1.47 1.35L5.41 20z\"/>\n",
              "  </svg>\n",
              "      </button>\n",
              "      \n",
              "  <style>\n",
              "    .colab-df-container {\n",
              "      display:flex;\n",
              "      flex-wrap:wrap;\n",
              "      gap: 12px;\n",
              "    }\n",
              "\n",
              "    .colab-df-convert {\n",
              "      background-color: #E8F0FE;\n",
              "      border: none;\n",
              "      border-radius: 50%;\n",
              "      cursor: pointer;\n",
              "      display: none;\n",
              "      fill: #1967D2;\n",
              "      height: 32px;\n",
              "      padding: 0 0 0 0;\n",
              "      width: 32px;\n",
              "    }\n",
              "\n",
              "    .colab-df-convert:hover {\n",
              "      background-color: #E2EBFA;\n",
              "      box-shadow: 0px 1px 2px rgba(60, 64, 67, 0.3), 0px 1px 3px 1px rgba(60, 64, 67, 0.15);\n",
              "      fill: #174EA6;\n",
              "    }\n",
              "\n",
              "    [theme=dark] .colab-df-convert {\n",
              "      background-color: #3B4455;\n",
              "      fill: #D2E3FC;\n",
              "    }\n",
              "\n",
              "    [theme=dark] .colab-df-convert:hover {\n",
              "      background-color: #434B5C;\n",
              "      box-shadow: 0px 1px 3px 1px rgba(0, 0, 0, 0.15);\n",
              "      filter: drop-shadow(0px 1px 2px rgba(0, 0, 0, 0.3));\n",
              "      fill: #FFFFFF;\n",
              "    }\n",
              "  </style>\n",
              "\n",
              "      <script>\n",
              "        const buttonEl =\n",
              "          document.querySelector('#df-bb19542c-d983-4242-b3a2-db39193624fb button.colab-df-convert');\n",
              "        buttonEl.style.display =\n",
              "          google.colab.kernel.accessAllowed ? 'block' : 'none';\n",
              "\n",
              "        async function convertToInteractive(key) {\n",
              "          const element = document.querySelector('#df-bb19542c-d983-4242-b3a2-db39193624fb');\n",
              "          const dataTable =\n",
              "            await google.colab.kernel.invokeFunction('convertToInteractive',\n",
              "                                                     [key], {});\n",
              "          if (!dataTable) return;\n",
              "\n",
              "          const docLinkHtml = 'Like what you see? Visit the ' +\n",
              "            '<a target=\"_blank\" href=https://colab.research.google.com/notebooks/data_table.ipynb>data table notebook</a>'\n",
              "            + ' to learn more about interactive tables.';\n",
              "          element.innerHTML = '';\n",
              "          dataTable['output_type'] = 'display_data';\n",
              "          await google.colab.output.renderOutput(dataTable, element);\n",
              "          const docLink = document.createElement('div');\n",
              "          docLink.innerHTML = docLinkHtml;\n",
              "          element.appendChild(docLink);\n",
              "        }\n",
              "      </script>\n",
              "    </div>\n",
              "  </div>\n",
              "  "
            ]
          },
          "metadata": {},
          "execution_count": 31
        }
      ],
      "source": [
        "data"
      ]
    },
    {
      "cell_type": "markdown",
      "metadata": {
        "id": "iwPSIgZpuW5T"
      },
      "source": [
        "## Scikit-Learn Library "
      ]
    },
    {
      "cell_type": "code",
      "execution_count": 32,
      "metadata": {
        "id": "UYc4W4PKeVvh"
      },
      "outputs": [],
      "source": [
        "from sklearn import tree \n",
        "from sklearn.tree import DecisionTreeClassifier\n",
        "from sklearn.metrics import accuracy_score\n",
        "from sklearn.model_selection import train_test_split"
      ]
    },
    {
      "cell_type": "markdown",
      "metadata": {
        "id": "QsVPVKaUufmr"
      },
      "source": [
        "## Decision Tree Classifier"
      ]
    },
    {
      "cell_type": "code",
      "execution_count": 33,
      "metadata": {
        "colab": {
          "base_uri": "https://localhost:8080/"
        },
        "id": "R4nCdh6igD6h",
        "outputId": "e9f77720-61cc-4ac2-be5b-63ec42260e2c"
      },
      "outputs": [
        {
          "output_type": "stream",
          "name": "stdout",
          "text": [
            "0.9504761904761905\n"
          ]
        }
      ],
      "source": [
        "X = data.iloc[:, 1:3]\n",
        "y = data.iloc[:, 3:4]\n",
        "X_train, X_test, y_train, y_test = train_test_split(X, y, test_size = 0.2, random_state = 1)\n",
        "result = DecisionTreeClassifier(criterion = 'entropy', random_state = 1)\n",
        "result.fit(X_train, y_train)\n",
        "y_pred = result.predict(X_test)\n",
        "scoreDT = accuracy_score(y_pred, y_test)\n",
        "print(scoreDT)"
      ]
    },
    {
      "cell_type": "code",
      "execution_count": 34,
      "metadata": {
        "colab": {
          "base_uri": "https://localhost:8080/"
        },
        "id": "jrtYNjlKFKkz",
        "outputId": "dc1dddc3-3d0d-4901-a1d7-6d75a6113af0"
      },
      "outputs": [
        {
          "output_type": "stream",
          "name": "stdout",
          "text": [
            "[[  1   0   0 ...   0   0   0]\n",
            " [  0   0   0 ...   0   0   0]\n",
            " [  0   0   1 ...   0   0   0]\n",
            " ...\n",
            " [  0   0   0 ...   0   0   0]\n",
            " [  0   0   0 ...   0   2   0]\n",
            " [  0   0   0 ...   0   0 106]]\n"
          ]
        }
      ],
      "source": [
        "from sklearn.metrics import confusion_matrix\n",
        "\n",
        "mat = confusion_matrix(y_pred, y_test)\n",
        "print(mat)"
      ]
    },
    {
      "cell_type": "code",
      "execution_count": 35,
      "metadata": {
        "colab": {
          "base_uri": "https://localhost:8080/"
        },
        "id": "TpvbmETVqfNR",
        "outputId": "c1f84b10-b19f-401c-afe9-4e6e949b5c07"
      },
      "outputs": [
        {
          "output_type": "stream",
          "name": "stdout",
          "text": [
            "0.9504761904761905\n"
          ]
        }
      ],
      "source": [
        "from sklearn.metrics import recall_score\n",
        "\n",
        "scr_d = recall_score(y_pred, y_test, average = 'micro')\n",
        "print(scr_d)"
      ]
    },
    {
      "cell_type": "code",
      "execution_count": 36,
      "metadata": {
        "colab": {
          "base_uri": "https://localhost:8080/"
        },
        "id": "Ixiz25TNr48q",
        "outputId": "715b1f0c-7d97-4d26-fd6d-a5f8f05aa55a"
      },
      "outputs": [
        {
          "output_type": "stream",
          "name": "stdout",
          "text": [
            "0.9504761904761905\n"
          ]
        }
      ],
      "source": [
        "from sklearn.metrics import precision_score\n",
        "\n",
        "scr_d1 = precision_score(y_pred, y_test, average = 'micro')\n",
        "print(scr_d1)"
      ]
    },
    {
      "cell_type": "code",
      "execution_count": 37,
      "metadata": {
        "colab": {
          "base_uri": "https://localhost:8080/"
        },
        "id": "LY62wEitr5Ns",
        "outputId": "e159ab69-46d4-48a5-ed9f-32f2f2b63d2c"
      },
      "outputs": [
        {
          "output_type": "stream",
          "name": "stdout",
          "text": [
            "0.9504761904761905\n"
          ]
        }
      ],
      "source": [
        "from sklearn.metrics import f1_score\n",
        "\n",
        "scr_d2 = f1_score(y_pred, y_test, average = 'micro')\n",
        "print(scr_d2)"
      ]
    },
    {
      "cell_type": "markdown",
      "metadata": {
        "id": "GbU9CargvCYe"
      },
      "source": [
        "## SVC - Support Vector Classifier \n",
        "\n"
      ]
    },
    {
      "cell_type": "code",
      "execution_count": 38,
      "metadata": {
        "colab": {
          "base_uri": "https://localhost:8080/"
        },
        "id": "LBTs-tnBboU1",
        "outputId": "065c2814-fa45-491f-efe8-407e80eeafe8"
      },
      "outputs": [
        {
          "output_type": "stream",
          "name": "stderr",
          "text": [
            "/usr/local/lib/python3.7/dist-packages/sklearn/utils/validation.py:993: DataConversionWarning: A column-vector y was passed when a 1d array was expected. Please change the shape of y to (n_samples, ), for example using ravel().\n",
            "  y = column_or_1d(y, warn=True)\n"
          ]
        },
        {
          "output_type": "execute_result",
          "data": {
            "text/plain": [
              "SVC(gamma='auto')"
            ]
          },
          "metadata": {},
          "execution_count": 38
        }
      ],
      "source": [
        "from sklearn.svm import SVC\n",
        "\n",
        "svc = SVC(gamma = \"auto\")\n",
        "svc.fit(X_train, y_train)"
      ]
    },
    {
      "cell_type": "code",
      "execution_count": 39,
      "metadata": {
        "colab": {
          "base_uri": "https://localhost:8080/"
        },
        "id": "UTLei8oajSKm",
        "outputId": "b29f568b-0fdd-47fd-e457-f9d7adcb6492"
      },
      "outputs": [
        {
          "output_type": "stream",
          "name": "stdout",
          "text": [
            "Training Score: 0.9919042111708279\n",
            "Test Score: 0.9461224489795919\n"
          ]
        }
      ],
      "source": [
        "print(\"Training Score:\", svc.score(X_train, y_train))\n",
        "print(\"Test Score:\", svc.score(X_test, y_test))"
      ]
    },
    {
      "cell_type": "code",
      "execution_count": 40,
      "metadata": {
        "colab": {
          "base_uri": "https://localhost:8080/"
        },
        "id": "aXi2DgyMjlsu",
        "outputId": "08d16729-08d6-4ae0-f894-30ddd7f3f83e"
      },
      "outputs": [
        {
          "output_type": "stream",
          "name": "stdout",
          "text": [
            "0.9461224489795919\n"
          ]
        }
      ],
      "source": [
        "pred2 = svc.predict(X_test)\n",
        "scoreSVC = accuracy_score(pred2, y_test)\n",
        "print(scoreSVC)"
      ]
    },
    {
      "cell_type": "code",
      "execution_count": 41,
      "metadata": {
        "colab": {
          "base_uri": "https://localhost:8080/"
        },
        "id": "p3rHyzObupTf",
        "outputId": "b300e722-2fbb-4855-bd75-8f572723dfc0"
      },
      "outputs": [
        {
          "output_type": "stream",
          "name": "stdout",
          "text": [
            "[[  1   0   0 ...   0   0   0]\n",
            " [  0   0   0 ...   0   0   0]\n",
            " [  0   0   1 ...   0   0   0]\n",
            " ...\n",
            " [  0   0   0 ...   5   0   0]\n",
            " [  0   0   0 ...   0   2   0]\n",
            " [  0   0   0 ...   0   0 106]]\n"
          ]
        }
      ],
      "source": [
        "from sklearn.metrics import confusion_matrix\n",
        "\n",
        "mat1 = confusion_matrix(pred2, y_test)\n",
        "print(mat1)"
      ]
    },
    {
      "cell_type": "code",
      "execution_count": 42,
      "metadata": {
        "colab": {
          "base_uri": "https://localhost:8080/"
        },
        "id": "qjGZeJJZvxYi",
        "outputId": "281cd0e3-800c-4197-d241-fb0fab723ba0"
      },
      "outputs": [
        {
          "output_type": "stream",
          "name": "stdout",
          "text": [
            "0.9461224489795919\n"
          ]
        }
      ],
      "source": [
        "scr_s = recall_score(pred2, y_test, average = 'micro')\n",
        "print(scr_s)"
      ]
    },
    {
      "cell_type": "code",
      "execution_count": 43,
      "metadata": {
        "colab": {
          "base_uri": "https://localhost:8080/"
        },
        "id": "svUdQLFivxv2",
        "outputId": "4131b9ed-d540-4335-db57-e6177f32885f"
      },
      "outputs": [
        {
          "output_type": "stream",
          "name": "stdout",
          "text": [
            "0.9461224489795919\n"
          ]
        }
      ],
      "source": [
        "scr_s1 = precision_score(pred2, y_test, average = 'micro')\n",
        "print(scr_s1)"
      ]
    },
    {
      "cell_type": "code",
      "execution_count": 44,
      "metadata": {
        "colab": {
          "base_uri": "https://localhost:8080/"
        },
        "id": "QarmAK0bvx3c",
        "outputId": "7bcd2fac-ca9b-4455-b61c-7b23068eeeed"
      },
      "outputs": [
        {
          "output_type": "stream",
          "name": "stdout",
          "text": [
            "0.9461224489795919\n"
          ]
        }
      ],
      "source": [
        "scr_s2 = f1_score(pred2, y_test, average = 'micro')\n",
        "print(scr_s2)"
      ]
    },
    {
      "cell_type": "markdown",
      "metadata": {
        "id": "W3KxBsSkwRk2"
      },
      "source": [
        "## Random Forest Classication"
      ]
    },
    {
      "cell_type": "code",
      "execution_count": 45,
      "metadata": {
        "id": "C0XWXl1dkYaJ",
        "colab": {
          "base_uri": "https://localhost:8080/"
        },
        "outputId": "4e5d059b-e774-4f83-d660-90745892b4f2"
      },
      "outputs": [
        {
          "output_type": "stream",
          "name": "stderr",
          "text": [
            "/usr/local/lib/python3.7/dist-packages/ipykernel_launcher.py:4: DataConversionWarning: A column-vector y was passed when a 1d array was expected. Please change the shape of y to (n_samples,), for example using ravel().\n",
            "  after removing the cwd from sys.path.\n"
          ]
        },
        {
          "output_type": "execute_result",
          "data": {
            "text/plain": [
              "RandomForestClassifier(n_estimators=200)"
            ]
          },
          "metadata": {},
          "execution_count": 45
        }
      ],
      "source": [
        "from sklearn.ensemble import RandomForestClassifier\n",
        "\n",
        "rfc = RandomForestClassifier(n_estimators = 200)\n",
        "rfc.fit(X_train, y_train)"
      ]
    },
    {
      "cell_type": "code",
      "execution_count": 46,
      "metadata": {
        "id": "7nVVOy41leCN",
        "colab": {
          "base_uri": "https://localhost:8080/"
        },
        "outputId": "2762067a-1d23-4112-aa49-4d3b9cb5fafd"
      },
      "outputs": [
        {
          "output_type": "stream",
          "name": "stdout",
          "text": [
            "Training Score:  0.9969385672494727\n",
            "Test Score:  0.9510204081632653\n"
          ]
        }
      ],
      "source": [
        "print(\"Training Score: \", rfc.score(X_train, y_train))\n",
        "print(\"Test Score: \", rfc.score(X_test, y_test))"
      ]
    },
    {
      "cell_type": "code",
      "execution_count": 47,
      "metadata": {
        "id": "cFL6thLHl0VJ",
        "colab": {
          "base_uri": "https://localhost:8080/"
        },
        "outputId": "76ce6923-447f-41c1-c92e-0a4578800deb"
      },
      "outputs": [
        {
          "output_type": "stream",
          "name": "stdout",
          "text": [
            "0.9510204081632653\n"
          ]
        }
      ],
      "source": [
        "pred3 = rfc.predict(X_test)\n",
        "scoreRFC = accuracy_score(pred3, y_test)\n",
        "print(scoreRFC)"
      ]
    },
    {
      "cell_type": "code",
      "execution_count": 48,
      "metadata": {
        "id": "vMftFVs8ysKj",
        "colab": {
          "base_uri": "https://localhost:8080/"
        },
        "outputId": "d26ac404-3216-4107-c1dd-a02917ed56f9"
      },
      "outputs": [
        {
          "output_type": "stream",
          "name": "stdout",
          "text": [
            "[[  1   0   0 ...   0   0   0]\n",
            " [  0   0   0 ...   0   0   0]\n",
            " [  0   0   1 ...   0   0   0]\n",
            " ...\n",
            " [  0   0   0 ...   5   0   0]\n",
            " [  0   0   0 ...   0   2   0]\n",
            " [  0   0   0 ...   0   0 106]]\n"
          ]
        }
      ],
      "source": [
        "mat2 = confusion_matrix(pred3, y_test)\n",
        "print(mat2)"
      ]
    },
    {
      "cell_type": "code",
      "execution_count": 49,
      "metadata": {
        "id": "r-L9qe2LxQRm",
        "colab": {
          "base_uri": "https://localhost:8080/"
        },
        "outputId": "027a58c0-3cc2-45bf-a7ad-f3a1253448ad"
      },
      "outputs": [
        {
          "output_type": "stream",
          "name": "stdout",
          "text": [
            "0.9510204081632653\n"
          ]
        }
      ],
      "source": [
        "scr_rfc = recall_score(pred3, y_test, average = 'micro')\n",
        "print(scr_rfc)"
      ]
    },
    {
      "cell_type": "code",
      "execution_count": 50,
      "metadata": {
        "id": "gaizWaIGxQv7",
        "colab": {
          "base_uri": "https://localhost:8080/"
        },
        "outputId": "9373a7c1-35fc-4625-f9d9-0e2bbbff0875"
      },
      "outputs": [
        {
          "output_type": "stream",
          "name": "stdout",
          "text": [
            "0.9510204081632653\n"
          ]
        }
      ],
      "source": [
        "scr_rfc1 = precision_score(pred3, y_test, average = 'micro')\n",
        "print(scr_rfc1)"
      ]
    },
    {
      "cell_type": "code",
      "execution_count": 51,
      "metadata": {
        "id": "zsVsTNDuxQ4O",
        "colab": {
          "base_uri": "https://localhost:8080/"
        },
        "outputId": "210aac31-19f2-492c-eadc-5220951675e1"
      },
      "outputs": [
        {
          "output_type": "stream",
          "name": "stdout",
          "text": [
            "0.9510204081632653\n"
          ]
        }
      ],
      "source": [
        "scr_rfc2 = f1_score(pred3, y_test, average = 'micro')\n",
        "print(scr_rfc2)"
      ]
    },
    {
      "cell_type": "markdown",
      "metadata": {
        "id": "Whhh2BMPxiry"
      },
      "source": [
        "## Linear Regression"
      ]
    },
    {
      "cell_type": "code",
      "execution_count": 52,
      "metadata": {
        "id": "y1BFjKX4rwi6",
        "colab": {
          "base_uri": "https://localhost:8080/"
        },
        "outputId": "5cc7af34-18c3-4dac-870c-ac8c93da4038"
      },
      "outputs": [
        {
          "output_type": "execute_result",
          "data": {
            "text/plain": [
              "LinearRegression()"
            ]
          },
          "metadata": {},
          "execution_count": 52
        }
      ],
      "source": [
        "from sklearn.linear_model import LinearRegression\n",
        "\n",
        "rg = LinearRegression()\n",
        "rg.fit(X_train, y_train)"
      ]
    },
    {
      "cell_type": "code",
      "execution_count": 53,
      "metadata": {
        "id": "AORdqovOr86s",
        "colab": {
          "base_uri": "https://localhost:8080/"
        },
        "outputId": "e5548771-f03b-45f1-bb96-edc3daea63ee"
      },
      "outputs": [
        {
          "output_type": "stream",
          "name": "stdout",
          "text": [
            "Training Score:  0.9377005880202302\n",
            "Test Score:  0.9406432866843732\n"
          ]
        }
      ],
      "source": [
        "print(\"Training Score: \", rg.score(X_train, y_train))\n",
        "print(\"Test Score: \", rg.score(X_test, y_test))"
      ]
    },
    {
      "cell_type": "code",
      "execution_count": 54,
      "metadata": {
        "id": "Rniv83lPsJtq",
        "colab": {
          "base_uri": "https://localhost:8080/"
        },
        "outputId": "f7926f4a-cc1e-4f60-e172-f7a47c977c73"
      },
      "outputs": [
        {
          "output_type": "stream",
          "name": "stdout",
          "text": [
            "[[  0.54179793 -24.14413913]]\n",
            "[1098.65846193]\n"
          ]
        }
      ],
      "source": [
        "print(rg.coef_)\n",
        "print(rg.intercept_)"
      ]
    },
    {
      "cell_type": "code",
      "execution_count": 55,
      "metadata": {
        "id": "2j4i2UdPtFRP",
        "colab": {
          "base_uri": "https://localhost:8080/"
        },
        "outputId": "b8cd70ef-f7c0-4ec3-af9f-f0c9c04428d4"
      },
      "outputs": [
        {
          "output_type": "stream",
          "name": "stdout",
          "text": [
            "0.9368643446500489\n"
          ]
        }
      ],
      "source": [
        "from sklearn.metrics import r2_score\n",
        "\n",
        "pred4 = rg.predict(X_test)\n",
        "scoreLR = r2_score(pred4, y_test)\n",
        "print(scoreLR)"
      ]
    },
    {
      "cell_type": "markdown",
      "metadata": {
        "id": "p0AyWKvCyK-Y"
      },
      "source": [
        "## Ridge Regression"
      ]
    },
    {
      "cell_type": "code",
      "execution_count": 56,
      "metadata": {
        "id": "8QooOuDstcUf",
        "colab": {
          "base_uri": "https://localhost:8080/"
        },
        "outputId": "3f038a63-dcd6-4c60-ab0f-986ac1dd6d92"
      },
      "outputs": [
        {
          "output_type": "execute_result",
          "data": {
            "text/plain": [
              "Ridge()"
            ]
          },
          "metadata": {},
          "execution_count": 56
        }
      ],
      "source": [
        "from sklearn.linear_model import Ridge\n",
        "\n",
        "top = Ridge()\n",
        "top.fit(X_train, y_train)"
      ]
    },
    {
      "cell_type": "code",
      "execution_count": 57,
      "metadata": {
        "id": "OlCjclyyuOP4",
        "colab": {
          "base_uri": "https://localhost:8080/"
        },
        "outputId": "d27b659f-8025-4556-a24d-d3f4d87b3b1a"
      },
      "outputs": [
        {
          "output_type": "stream",
          "name": "stdout",
          "text": [
            "Training Score:  0.9377005880202063\n",
            "Test Score:  0.9406432841458373\n"
          ]
        }
      ],
      "source": [
        "print(\"Training Score: \", top.score(X_train, y_train))\n",
        "print(\"Test Score: \", top.score(X_test, y_test))"
      ]
    },
    {
      "cell_type": "code",
      "execution_count": 58,
      "metadata": {
        "id": "2MbeVcWfuR9U",
        "colab": {
          "base_uri": "https://localhost:8080/"
        },
        "outputId": "8c195ccd-fcb4-433e-b18d-e66596d3ccdf"
      },
      "outputs": [
        {
          "output_type": "stream",
          "name": "stdout",
          "text": [
            "[[  0.54179792 -24.14413103]]\n",
            "[1098.65810236]\n"
          ]
        }
      ],
      "source": [
        "print(top.coef_)\n",
        "print(top.intercept_)"
      ]
    },
    {
      "cell_type": "code",
      "execution_count": 59,
      "metadata": {
        "id": "ZWrYbCa1u93g",
        "colab": {
          "base_uri": "https://localhost:8080/"
        },
        "outputId": "574d5baf-5733-4696-da9d-f731590616c1"
      },
      "outputs": [
        {
          "output_type": "stream",
          "name": "stdout",
          "text": [
            "0.9368643320432554\n"
          ]
        }
      ],
      "source": [
        "pred5 = top.predict(X_test)\n",
        "scoreRR = r2_score(pred5, y_test)\n",
        "print(scoreRR)"
      ]
    },
    {
      "cell_type": "markdown",
      "metadata": {
        "id": "Uds5c5btycCw"
      },
      "source": [
        "## Naive Bayes "
      ]
    },
    {
      "cell_type": "code",
      "execution_count": 60,
      "metadata": {
        "id": "2Ok-PALAL5t5",
        "colab": {
          "base_uri": "https://localhost:8080/"
        },
        "outputId": "040fadad-61d9-480f-e763-ff5378e12cc4"
      },
      "outputs": [
        {
          "output_type": "stream",
          "name": "stderr",
          "text": [
            "/usr/local/lib/python3.7/dist-packages/sklearn/utils/validation.py:993: DataConversionWarning: A column-vector y was passed when a 1d array was expected. Please change the shape of y to (n_samples, ), for example using ravel().\n",
            "  y = column_or_1d(y, warn=True)\n"
          ]
        },
        {
          "output_type": "execute_result",
          "data": {
            "text/plain": [
              "GaussianNB()"
            ]
          },
          "metadata": {},
          "execution_count": 60
        }
      ],
      "source": [
        "from sklearn.naive_bayes import GaussianNB\n",
        "\n",
        "gnb = GaussianNB()\n",
        "gnb.fit(X_train, y_train)"
      ]
    },
    {
      "cell_type": "code",
      "execution_count": 61,
      "metadata": {
        "id": "H0ecZMamMp-g",
        "colab": {
          "base_uri": "https://localhost:8080/"
        },
        "outputId": "400533a6-a8b0-45f4-858f-05844e1cb118"
      },
      "outputs": [
        {
          "output_type": "stream",
          "name": "stdout",
          "text": [
            "Training Score:  0.3933600925233009\n",
            "Test Score:  0.37768707482993197\n"
          ]
        }
      ],
      "source": [
        "print(\"Training Score: \", gnb.score(X_train, y_train))\n",
        "print(\"Test Score: \", gnb.score(X_test, y_test))"
      ]
    },
    {
      "cell_type": "code",
      "execution_count": 62,
      "metadata": {
        "id": "sePVIEUQMyr-",
        "colab": {
          "base_uri": "https://localhost:8080/"
        },
        "outputId": "cba9e619-877f-46ad-dfb1-fd02d28b32b7"
      },
      "outputs": [
        {
          "output_type": "stream",
          "name": "stdout",
          "text": [
            "0.37768707482993197\n"
          ]
        }
      ],
      "source": [
        "gnbP = gnb.predict(X_test)\n",
        "scoreNB = accuracy_score(gnbP, y_test)\n",
        "print(scoreNB)"
      ]
    },
    {
      "cell_type": "code",
      "execution_count": 63,
      "metadata": {
        "id": "T9GgUNOrNO2r",
        "colab": {
          "base_uri": "https://localhost:8080/"
        },
        "outputId": "87b902bf-6973-4454-bb35-d16c15576405"
      },
      "outputs": [
        {
          "output_type": "stream",
          "name": "stdout",
          "text": [
            "[[ 1  0  0 ...  0  0  0]\n",
            " [ 0  0  0 ...  0  0  0]\n",
            " [ 0  0  1 ...  0  0  0]\n",
            " ...\n",
            " [ 0  0  0 ...  0  0  0]\n",
            " [ 0  0  0 ...  0  2  0]\n",
            " [ 0  1  0 ...  0  0 27]]\n"
          ]
        }
      ],
      "source": [
        "mat5 = confusion_matrix(gnbP, y_test)\n",
        "print(mat5)"
      ]
    },
    {
      "cell_type": "code",
      "execution_count": 64,
      "metadata": {
        "id": "6r6xx63azIQN",
        "colab": {
          "base_uri": "https://localhost:8080/"
        },
        "outputId": "09ee0fb8-8a1f-4791-c422-b6d4cf9e5cce"
      },
      "outputs": [
        {
          "output_type": "stream",
          "name": "stdout",
          "text": [
            "0.37768707482993197\n"
          ]
        }
      ],
      "source": [
        "scr_nb = recall_score(gnbP, y_test, average = 'micro')\n",
        "print(scr_nb)"
      ]
    },
    {
      "cell_type": "code",
      "execution_count": 65,
      "metadata": {
        "id": "LgTY4O2mzIX5",
        "colab": {
          "base_uri": "https://localhost:8080/"
        },
        "outputId": "d6c38efb-fb3b-46c4-aac0-110f29220b6f"
      },
      "outputs": [
        {
          "output_type": "stream",
          "name": "stdout",
          "text": [
            "0.37768707482993197\n"
          ]
        }
      ],
      "source": [
        "scr_nb1 = precision_score(gnbP, y_test, average = 'micro')\n",
        "print(scr_nb1)"
      ]
    },
    {
      "cell_type": "code",
      "execution_count": 66,
      "metadata": {
        "id": "VM_a3HrNzIfV",
        "colab": {
          "base_uri": "https://localhost:8080/"
        },
        "outputId": "f92db27a-aaaa-4575-95f5-80f6c69578d2"
      },
      "outputs": [
        {
          "output_type": "stream",
          "name": "stdout",
          "text": [
            "0.37768707482993197\n"
          ]
        }
      ],
      "source": [
        "scr_nb2 = f1_score(gnbP, y_test, average = 'micro')\n",
        "print(scr_nb2)"
      ]
    },
    {
      "cell_type": "markdown",
      "metadata": {
        "id": "0XSXvpTyyfGK"
      },
      "source": [
        "## kNN Classifier "
      ]
    },
    {
      "cell_type": "code",
      "execution_count": 67,
      "metadata": {
        "id": "R9tZRi2AL8ls",
        "colab": {
          "base_uri": "https://localhost:8080/"
        },
        "outputId": "ea25122e-f04b-4101-94e8-55529b4dbfd5"
      },
      "outputs": [
        {
          "output_type": "stream",
          "name": "stderr",
          "text": [
            "/usr/local/lib/python3.7/dist-packages/sklearn/neighbors/_classification.py:198: DataConversionWarning: A column-vector y was passed when a 1d array was expected. Please change the shape of y to (n_samples,), for example using ravel().\n",
            "  return self._fit(X, y)\n"
          ]
        },
        {
          "output_type": "execute_result",
          "data": {
            "text/plain": [
              "KNeighborsClassifier()"
            ]
          },
          "metadata": {},
          "execution_count": 67
        }
      ],
      "source": [
        "from sklearn.neighbors import KNeighborsClassifier\n",
        "\n",
        "knn = KNeighborsClassifier()\n",
        "knn.fit(X_train, y_train)"
      ]
    },
    {
      "cell_type": "code",
      "execution_count": 68,
      "metadata": {
        "id": "TgcmWZwzOZ5L",
        "colab": {
          "base_uri": "https://localhost:8080/"
        },
        "outputId": "1524eb74-795e-4c5a-9c40-54a307a048fc"
      },
      "outputs": [
        {
          "output_type": "stream",
          "name": "stdout",
          "text": [
            "Training Score:  0.9263215184706443\n",
            "Test Score:  0.9047619047619048\n"
          ]
        }
      ],
      "source": [
        "print(\"Training Score: \", knn.score(X_train, y_train))\n",
        "print(\"Test Score: \", knn.score(X_test, y_test))"
      ]
    },
    {
      "cell_type": "code",
      "execution_count": 69,
      "metadata": {
        "id": "b-RHwEO1Ot8B",
        "colab": {
          "base_uri": "https://localhost:8080/"
        },
        "outputId": "7a0d9b4d-dce6-4a59-b91c-c1fc372d5913"
      },
      "outputs": [
        {
          "output_type": "stream",
          "name": "stdout",
          "text": [
            "0.9047619047619048\n"
          ]
        }
      ],
      "source": [
        "knnP = knn.predict(X_test)\n",
        "scoreKNN = accuracy_score(knnP, y_test)\n",
        "print(scoreKNN)"
      ]
    },
    {
      "cell_type": "code",
      "execution_count": 70,
      "metadata": {
        "id": "D1Oarbz2O7WU",
        "colab": {
          "base_uri": "https://localhost:8080/"
        },
        "outputId": "5c2891ca-f8f0-47c1-8086-351703445977"
      },
      "outputs": [
        {
          "output_type": "stream",
          "name": "stdout",
          "text": [
            "[[  0   1   0 ...   0   0   0]\n",
            " [  0   0   0 ...   0   0   0]\n",
            " [  0   0   0 ...   0   0   0]\n",
            " ...\n",
            " [  0   0   0 ...   5   0   0]\n",
            " [  0   0   0 ...   0   2   0]\n",
            " [  0   0   0 ...   0   0 106]]\n"
          ]
        }
      ],
      "source": [
        "mat6 = confusion_matrix(knnP, y_test)\n",
        "print(mat6)"
      ]
    },
    {
      "cell_type": "code",
      "execution_count": 71,
      "metadata": {
        "id": "N6hRFa5Szx-b",
        "colab": {
          "base_uri": "https://localhost:8080/"
        },
        "outputId": "f4156480-899b-49e5-fa39-adac390763a0"
      },
      "outputs": [
        {
          "output_type": "stream",
          "name": "stdout",
          "text": [
            "0.9047619047619048\n"
          ]
        }
      ],
      "source": [
        "scr_knn = recall_score(knnP, y_test, average = 'micro')\n",
        "print(scr_knn)"
      ]
    },
    {
      "cell_type": "code",
      "execution_count": 72,
      "metadata": {
        "id": "QZ0xHIRWzyFq",
        "colab": {
          "base_uri": "https://localhost:8080/"
        },
        "outputId": "5c1f2348-3cc5-4715-e9a9-663009b6627c"
      },
      "outputs": [
        {
          "output_type": "stream",
          "name": "stdout",
          "text": [
            "0.9047619047619048\n"
          ]
        }
      ],
      "source": [
        "scr_knn1 = precision_score(knnP, y_test, average = 'micro')\n",
        "print(scr_knn1)"
      ]
    },
    {
      "cell_type": "code",
      "execution_count": 73,
      "metadata": {
        "id": "y1SeFeKQzyKo",
        "colab": {
          "base_uri": "https://localhost:8080/"
        },
        "outputId": "7ec19034-1efd-4210-dfc0-d6e832673ebe"
      },
      "outputs": [
        {
          "output_type": "stream",
          "name": "stdout",
          "text": [
            "0.9047619047619048\n"
          ]
        }
      ],
      "source": [
        "scr_knn2 = f1_score(knnP, y_test, average = 'micro')\n",
        "print(scr_knn2)"
      ]
    },
    {
      "cell_type": "markdown",
      "metadata": {
        "id": "jj8LEjcn7Mbs"
      },
      "source": [
        "## Result Analysis  "
      ]
    },
    {
      "cell_type": "code",
      "execution_count": 74,
      "metadata": {
        "id": "FjhDx0EgVyt0",
        "colab": {
          "base_uri": "https://localhost:8080/",
          "height": 281
        },
        "outputId": "017730ce-70aa-4b1d-e9ac-fd4958f25fbd"
      },
      "outputs": [
        {
          "output_type": "display_data",
          "data": {
            "text/plain": [
              "<Figure size 432x288 with 1 Axes>"
            ],
            "image/png": "[encoded data removed]"
          },
          "metadata": {
            "needs_background": "light"
          }
        }
      ],
      "source": [
        "algorithms = ['kNN', 'NB', 'DT', 'RFC', 'SVC', 'LR', 'RR']\n",
        "\n",
        "accuracy = [scoreKNN, scoreNB, scoreDT, scoreRFC, scoreSVC, scoreLR, scoreRR]\n",
        "\n",
        "bars = plt.bar(algorithms, accuracy, width = 0.5)\n",
        "bars[0].set_color('green')\n",
        "bars[1].set_color('black')\n",
        "bars[2].set_color('red')\n",
        "bars[3].set_color('green')\n",
        "bars[4].set_color('black')\n",
        "bars[5].set_color('red')\n",
        "bars[6].set_color('green')\n",
        "\n",
        "plt.ylabel(\"Percentage\")\n",
        "plt.title(\"Machine Learning Classifiers Accuracy Score Comparison\")\n",
        "plt.show()"
      ]
    },
    {
      "cell_type": "code",
      "execution_count": 75,
      "metadata": {
        "id": "ne6LHdH3sBev",
        "colab": {
          "base_uri": "https://localhost:8080/",
          "height": 281
        },
        "outputId": "a5800b86-dc88-47da-a0ba-b4100985cfee"
      },
      "outputs": [
        {
          "output_type": "display_data",
          "data": {
            "text/plain": [
              "<Figure size 432x288 with 1 Axes>"
            ],
            "image/png": "[encoded data removed]"
          },
          "metadata": {
            "needs_background": "light"
          }
        }
      ],
      "source": [
        "algorithms1 = ['kNN', 'NB', 'DT', 'RFC', 'SVC', 'LR', 'RR']\n",
        "\n",
        "recall = [scr_knn, scr_nb, scr_d, scr_rfc, scr_s, 0, 0]\n",
        "\n",
        "bars1 = plt.bar(algorithms1, recall, width = 0.5)\n",
        "bars1[0].set_color('green')\n",
        "bars1[1].set_color('black')\n",
        "bars1[2].set_color('red')\n",
        "bars1[3].set_color('green')\n",
        "bars1[4].set_color('black')\n",
        "bars1[5].set_color('red')\n",
        "bars1[6].set_color('green')\n",
        "\n",
        "plt.ylabel(\"Percentage\")\n",
        "plt.title(\"Machine Learning Classifiers Recall Score Comparison\")\n",
        "plt.show()"
      ]
    },
    {
      "cell_type": "code",
      "execution_count": 76,
      "metadata": {
        "id": "rmU-8VhwsBXv",
        "colab": {
          "base_uri": "https://localhost:8080/",
          "height": 281
        },
        "outputId": "48556a99-a35a-4ef9-f85d-c9a327667068"
      },
      "outputs": [
        {
          "output_type": "display_data",
          "data": {
            "text/plain": [
              "<Figure size 432x288 with 1 Axes>"
            ],
            "image/png": "[encoded data removed]"
          },
          "metadata": {
            "needs_background": "light"
          }
        }
      ],
      "source": [
        "algorithms2 = ['kNN', 'NB', 'DT', 'RFC', 'SVC', 'LR', 'RR']\n",
        "\n",
        "precision = [scr_knn1, scr_nb1, scr_d1, scr_rfc1, scr_s1, 0, 0]\n",
        "\n",
        "bars2 = plt.bar(algorithms2, precision, width = 0.5)\n",
        "bars2[0].set_color('green')\n",
        "bars2[1].set_color('black')\n",
        "bars2[2].set_color('red')\n",
        "bars2[3].set_color('green')\n",
        "bars2[4].set_color('black')\n",
        "bars2[5].set_color('red')\n",
        "bars2[6].set_color('green')\n",
        "\n",
        "plt.ylabel(\"Percentage\")\n",
        "plt.title(\"Machine Learning Classifiers Precision Score Comparison\")\n",
        "plt.show()"
      ]
    },
    {
      "cell_type": "code",
      "execution_count": 77,
      "metadata": {
        "id": "EGYfFSHVsBLP",
        "colab": {
          "base_uri": "https://localhost:8080/",
          "height": 281
        },
        "outputId": "35572385-fca9-46ed-e089-e4c43ae1d94c"
      },
      "outputs": [
        {
          "output_type": "display_data",
          "data": {
            "text/plain": [
              "<Figure size 432x288 with 1 Axes>"
            ],
            "image/png": "[encoded data removed]"
          },
          "metadata": {
            "needs_background": "light"
          }
        }
      ],
      "source": [
        "algorithms3 = ['kNN', 'NB', 'DT', 'RFC', 'SVC', 'LR', 'RR']\n",
        "\n",
        "f1 = [scr_knn2, scr_nb2, scr_d2, scr_rfc2, scr_s2, 0, 0]\n",
        "\n",
        "bars3 = plt.bar(algorithms3, f1, width = 0.5)\n",
        "bars3[0].set_color('green')\n",
        "bars3[1].set_color('black')\n",
        "bars3[2].set_color('red')\n",
        "bars3[3].set_color('green')\n",
        "bars3[4].set_color('black')\n",
        "bars3[5].set_color('red')\n",
        "bars3[6].set_color('green')\n",
        "\n",
        "plt.ylabel(\"Percentage\")\n",
        "plt.title(\"Machine Learning Classifiers F1 Score Comparison\")\n",
        "plt.show()"
      ]
    }
  ],
  "metadata": {
    "colab": {
      "collapsed_sections": [],
      "name": "Analysis of different Classifier algorithms in machine learning.ipynb",
      "provenance": []
    },
    "kernelspec": {
      "display_name": "Python 3",
      "name": "python3"
    },
    "language_info": {
      "name": "python"
    }
  },
  "nbformat": 4,
  "nbformat_minor": 0
}